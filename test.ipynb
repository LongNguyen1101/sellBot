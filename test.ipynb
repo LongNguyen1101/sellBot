{
 "cells": [
  {
   "cell_type": "code",
   "execution_count": 1,
   "metadata": {},
   "outputs": [
    {
     "data": {
      "text/plain": [
       "True"
      ]
     },
     "execution_count": 1,
     "metadata": {},
     "output_type": "execute_result"
    }
   ],
   "source": [
    "from dotenv import load_dotenv\n",
    "import os\n",
    "\n",
    "load_dotenv(override=True)"
   ]
  },
  {
   "cell_type": "code",
   "execution_count": 2,
   "metadata": {},
   "outputs": [],
   "source": [
    "from app.core.graph import build_graph\n",
    "from app.core.state import init_state"
   ]
  },
  {
   "cell_type": "code",
   "execution_count": 3,
   "metadata": {},
   "outputs": [],
   "source": [
    "graph = build_graph()"
   ]
  },
  {
   "cell_type": "code",
   "execution_count": 4,
   "metadata": {},
   "outputs": [],
   "source": [
    "# from IPython.display import display, Image\n",
    "\n",
    "# display(Image(graph.get_graph().draw_mermaid_png()))\n"
   ]
  },
  {
   "cell_type": "code",
   "execution_count": 5,
   "metadata": {},
   "outputs": [
    {
     "name": "stdout",
     "output_type": "stream",
     "text": [
      "((), {'supervisor': {'messages': [HumanMessage(content='có đèn led thông minh ko', additional_kwargs={}, response_metadata={}, id='d6d26161-30a9-4945-b24c-b43332bd80e9')], 'next_node': 'product_agent'}})\n",
      "----\n",
      "(('product_agent:65604a72-ff60-358b-76b4-746f51e2a739',), {'agent': {'messages': [AIMessage(content='', additional_kwargs={'function_call': {'name': 'get_products', 'arguments': '{\"keyword\": \"\\\\u0111\\\\u00e8n led th\\\\u00f4ng minh\"}'}}, response_metadata={'prompt_feedback': {'block_reason': 0, 'safety_ratings': []}, 'finish_reason': 'STOP', 'model_name': 'gemini-2.0-flash', 'safety_ratings': []}, id='run--72e607eb-7bdb-4027-a1af-22871e04cf85-0', tool_calls=[{'name': 'get_products', 'args': {'keyword': 'đèn led thông minh'}, 'id': '4ef51d97-84b3-49db-81ad-3fb575e88334', 'type': 'tool_call'}], usage_metadata={'input_tokens': 327, 'output_tokens': 8, 'total_tokens': 335, 'input_token_details': {'cache_read': 0}})]}})\n",
      "----\n",
      "(('product_agent:65604a72-ff60-358b-76b4-746f51e2a739',), {'tools': {'seen_products': [{'product_id': 26956171339, 'sku': 'SH326', 'product_name': 'Bóng Đèn Led Thông Minh TP-Link Tapo L510E', 'variance_description': '', 'price': 299000}], 'product_chosen': {'product_id': 26956171339, 'sku': 'SH326', 'product_name': 'Bóng Đèn Led Thông Minh TP-Link Tapo L510E', 'variance_description': '', 'price': 299000}, 'messages': [ToolMessage(content=\"Số lượng sản phẩm khớp với từ khoá: 1\\nDưới đây là danh sách các sản phẩm:\\n[{'product_id': 26956171339, 'sku': 'SH326', 'product_name': 'Bóng Đèn Led Thông Minh TP-Link Tapo L510E', 'variance_description': '', 'brief_description': 'Đèn WiFi Tùy Chỉnh Ánh Sáng Hẹn Giờ Điều Khiển Từ Xa Qua Điện Thoại', 'price': 299000, 'inventory_quantity': 2}]\", name='get_products', id='fe85c9f3-e175-4ce3-becb-feda2dbf9257', tool_call_id='4ef51d97-84b3-49db-81ad-3fb575e88334')], 'next_node': '__end__'}})\n",
      "----\n",
      "(('product_agent:65604a72-ff60-358b-76b4-746f51e2a739',), {'agent': {'messages': [AIMessage(content='Dạ bên em có Bóng Đèn Led Thông Minh TP-Link Tapo L510E, giá 299.000đ. Đây có phải sản phẩm mình đang tìm không ạ? Nếu đúng, cho em xin số điện thoại để em lên đơn và tư vấn chi tiết hơn về sản phẩm nhé!', additional_kwargs={}, response_metadata={'prompt_feedback': {'block_reason': 0, 'safety_ratings': []}, 'finish_reason': 'STOP', 'model_name': 'gemini-2.0-flash', 'safety_ratings': []}, id='run--c4ac9be1-c24a-4cb7-aa12-e6feadc6187a-0', usage_metadata={'input_tokens': 471, 'output_tokens': 70, 'total_tokens': 541, 'input_token_details': {'cache_read': 0}})]}})\n",
      "----\n",
      "((), {'product_agent': {'messages': [AIMessage(content='Dạ bên em có Bóng Đèn Led Thông Minh TP-Link Tapo L510E, giá 299.000đ. Đây có phải sản phẩm mình đang tìm không ạ? Nếu đúng, cho em xin số điện thoại để em lên đơn và tư vấn chi tiết hơn về sản phẩm nhé!', additional_kwargs={}, response_metadata={}, name='product_agent')], 'seen_products': [{'product_id': 26956171339, 'sku': 'SH326', 'product_name': 'Bóng Đèn Led Thông Minh TP-Link Tapo L510E', 'variance_description': '', 'price': 299000}], 'product_chosen': {'product_id': 26956171339, 'sku': 'SH326', 'product_name': 'Bóng Đèn Led Thông Minh TP-Link Tapo L510E', 'variance_description': '', 'price': 299000}, 'next_node': '__end__'}})\n",
      "----\n"
     ]
    }
   ],
   "source": [
    "from langgraph.graph.message import add_messages\n",
    "from langchain_core.messages import HumanMessage\n",
    "from langgraph.types import Command\n",
    "\n",
    "state = init_state()\n",
    "\n",
    "config = {\n",
    "    \"configurable\": \n",
    "    {\n",
    "        \"thread_id\": \"1\"\n",
    "    }\n",
    "}\n",
    "\n",
    "state[\"user_input\"] = \"có đèn led thông minh ko\"\n",
    "\n",
    "for s in graph.stream(state, subgraphs=True, config=config):\n",
    "    print(s)\n",
    "    print(\"----\")"
   ]
  },
  {
   "cell_type": "code",
   "execution_count": 6,
   "metadata": {},
   "outputs": [
    {
     "name": "stdout",
     "output_type": "stream",
     "text": [
      "((), {'supervisor': {'messages': [HumanMessage(content='có đèn led thông minh ko', additional_kwargs={}, response_metadata={}, id='d6d26161-30a9-4945-b24c-b43332bd80e9'), AIMessage(content='Dạ bên em có Bóng Đèn Led Thông Minh TP-Link Tapo L510E, giá 299.000đ. Đây có phải sản phẩm mình đang tìm không ạ? Nếu đúng, cho em xin số điện thoại để em lên đơn và tư vấn chi tiết hơn về sản phẩm nhé!', additional_kwargs={}, response_metadata={}, name='product_agent', id='a4dde6c5-16d1-49ae-9aae-bf96387d1261'), HumanMessage(content='cho mình mua cái đó đi', additional_kwargs={}, response_metadata={}, id='efa006dd-f71c-4d14-9e96-bacfa3616148')], 'next_node': 'customer_agent'}})\n",
      "----\n",
      "(('customer_agent:c29a53e0-0f2e-8ef6-70a3-2ec6db9e5400',), {'agent': {'messages': [AIMessage(content='Dạ để em kiểm tra xem mình đã có tài khoản ở cửa hàng chưa ạ. Mình cho em xin số điện thoại nhé.', additional_kwargs={}, response_metadata={'prompt_feedback': {'block_reason': 0, 'safety_ratings': []}, 'finish_reason': 'STOP', 'model_name': 'gemini-2.0-flash', 'safety_ratings': []}, id='run--e63fff75-6b3e-497b-8104-2a6eb432bdfc-0', usage_metadata={'input_tokens': 372, 'output_tokens': 28, 'total_tokens': 400, 'input_token_details': {'cache_read': 0}})]}})\n",
      "----\n",
      "((), {'customer_agent': {'next_node': 'customer_agent', 'messages': [AIMessage(content='Dạ để em kiểm tra xem mình đã có tài khoản ở cửa hàng chưa ạ. Mình cho em xin số điện thoại nhé.', additional_kwargs={}, response_metadata={}, name='customer_agent')]}})\n",
      "----\n",
      "(('customer_agent:087c5d2c-88da-6261-bd2a-33397fe5ea65',), {'agent': {'messages': [AIMessage(content='', additional_kwargs={}, response_metadata={'prompt_feedback': {'block_reason': 0, 'safety_ratings': []}, 'finish_reason': 'STOP', 'model_name': 'gemini-2.0-flash', 'safety_ratings': []}, id='run--3970716e-afc1-4d78-a73e-02cbf16f0a66-0', usage_metadata={'input_tokens': 400, 'output_tokens': 0, 'total_tokens': 400, 'input_token_details': {'cache_read': 0}})]}})\n",
      "----\n",
      "((), {'customer_agent': {'next_node': 'customer_agent', 'messages': [AIMessage(content='', additional_kwargs={}, response_metadata={}, name='customer_agent')]}})\n",
      "----\n",
      "(('customer_agent:2ec2f8aa-9fcc-e121-41aa-b0d385664d83',), {'agent': {'messages': [AIMessage(content='', additional_kwargs={'function_call': {'name': 'find_customer', 'arguments': '{\"phone_number\": \"\"}'}}, response_metadata={'prompt_feedback': {'block_reason': 0, 'safety_ratings': []}, 'finish_reason': 'STOP', 'model_name': 'gemini-2.0-flash', 'safety_ratings': []}, id='run--92d1b2d2-6ad3-44d0-a2a8-0ac6bdbdf7c5-0', tool_calls=[{'name': 'find_customer', 'args': {'phone_number': ''}, 'id': 'a502841a-732d-4605-9bff-15185994c925', 'type': 'tool_call'}], usage_metadata={'input_tokens': 400, 'output_tokens': 6, 'total_tokens': 406, 'input_token_details': {'cache_read': 0}})]}})\n",
      "----\n",
      "(('customer_agent:2ec2f8aa-9fcc-e121-41aa-b0d385664d83',), {'tools': {'phone_number': '', 'next_node': '__end__', 'messages': [ToolMessage(content='Customer not found. Ask customer name and address to create order', name='find_customer', id='c84e985a-01f6-4b09-a618-cc48f0b45f8d', tool_call_id='a502841a-732d-4605-9bff-15185994c925')]}})\n",
      "----\n",
      "(('customer_agent:2ec2f8aa-9fcc-e121-41aa-b0d385664d83',), {'agent': {'messages': [AIMessage(content='Dạ hiện tại em chưa thấy số điện thoại này trong hệ thống của cửa hàng. Mình cho em xin tên và địa chỉ để em đăng ký tài khoản và lên đơn hàng luôn nha.', additional_kwargs={}, response_metadata={'prompt_feedback': {'block_reason': 0, 'safety_ratings': []}, 'finish_reason': 'STOP', 'model_name': 'gemini-2.0-flash', 'safety_ratings': []}, id='run--9fc685b6-4cf3-4933-a8a9-ae4710eecce5-0', usage_metadata={'input_tokens': 422, 'output_tokens': 40, 'total_tokens': 462, 'input_token_details': {'cache_read': 0}})]}})\n",
      "----\n",
      "((), {'customer_agent': {'next_node': '__end__', 'messages': [AIMessage(content='Dạ hiện tại em chưa thấy số điện thoại này trong hệ thống của cửa hàng. Mình cho em xin tên và địa chỉ để em đăng ký tài khoản và lên đơn hàng luôn nha.', additional_kwargs={}, response_metadata={}, name='customer_agent')]}})\n",
      "----\n"
     ]
    }
   ],
   "source": [
    "state[\"user_input\"] = \"cho mình mua cái đó đi\"\n",
    "for s in graph.stream(state, subgraphs=True, config=config):\n",
    "    print(s)\n",
    "    print(\"----\")"
   ]
  },
  {
   "cell_type": "code",
   "execution_count": 7,
   "metadata": {},
   "outputs": [
    {
     "name": "stdout",
     "output_type": "stream",
     "text": [
      "((), {'supervisor': {'messages': [HumanMessage(content='có đèn led thông minh ko', additional_kwargs={}, response_metadata={}, id='d6d26161-30a9-4945-b24c-b43332bd80e9'), AIMessage(content='Dạ bên em có Bóng Đèn Led Thông Minh TP-Link Tapo L510E, giá 299.000đ. Đây có phải sản phẩm mình đang tìm không ạ? Nếu đúng, cho em xin số điện thoại để em lên đơn và tư vấn chi tiết hơn về sản phẩm nhé!', additional_kwargs={}, response_metadata={}, name='product_agent', id='a4dde6c5-16d1-49ae-9aae-bf96387d1261'), HumanMessage(content='cho mình mua cái đó đi', additional_kwargs={}, response_metadata={}, id='efa006dd-f71c-4d14-9e96-bacfa3616148'), AIMessage(content='Dạ để em kiểm tra xem mình đã có tài khoản ở cửa hàng chưa ạ. Mình cho em xin số điện thoại nhé.', additional_kwargs={}, response_metadata={}, name='customer_agent', id='716ce4c4-eb4c-4a99-8440-819a76342325'), AIMessage(content='', additional_kwargs={}, response_metadata={}, name='customer_agent', id='5dff38d5-51f5-4766-a27f-3553931d0294'), AIMessage(content='Dạ hiện tại em chưa thấy số điện thoại này trong hệ thống của cửa hàng. Mình cho em xin tên và địa chỉ để em đăng ký tài khoản và lên đơn hàng luôn nha.', additional_kwargs={}, response_metadata={}, name='customer_agent', id='339c172e-27c2-4dd3-8801-17c3e09cc219'), HumanMessage(content='sđt là 123', additional_kwargs={}, response_metadata={}, id='c20b3190-ab80-4612-9c8a-4d1c4a5d0aa1')], 'next_node': 'customer_agent'}})\n",
      "----\n",
      "(('customer_agent:5b7b7617-fc15-502a-9e67-8d16ad8e0bda',), {'agent': {'messages': [AIMessage(content='', additional_kwargs={'function_call': {'name': 'find_customer', 'arguments': '{\"phone_number\": \"123\"}'}}, response_metadata={'prompt_feedback': {'block_reason': 0, 'safety_ratings': []}, 'finish_reason': 'STOP', 'model_name': 'gemini-2.0-flash', 'safety_ratings': []}, id='run--1e4a0937-709f-4145-9d44-a6c7358009cc-0', tool_calls=[{'name': 'find_customer', 'args': {'phone_number': '123'}, 'id': '00cc1e8c-920f-4e43-8481-2e273c85074f', 'type': 'tool_call'}], usage_metadata={'input_tokens': 448, 'output_tokens': 9, 'total_tokens': 457, 'input_token_details': {'cache_read': 0}})]}})\n",
      "----\n",
      "(('customer_agent:5b7b7617-fc15-502a-9e67-8d16ad8e0bda',), {'tools': {'customer_id': 3, 'name': 'Long', 'phone_number': '123', 'address': '123 HCM', 'next_node': 'cart_agent', 'messages': [ToolMessage(content='\\nContinue adding product to cart', name='find_customer', id='2c166851-07e2-4aa6-b6be-62fb1902ecea', tool_call_id='00cc1e8c-920f-4e43-8481-2e273c85074f')]}})\n",
      "----\n",
      "(('customer_agent:5b7b7617-fc15-502a-9e67-8d16ad8e0bda',), {'agent': {'messages': [AIMessage(content='Dạ số điện thoại này đã có trong hệ thống, mình có muốn tiếp tục thêm sản phẩm vào giỏ hàng không ạ?', additional_kwargs={}, response_metadata={'prompt_feedback': {'block_reason': 0, 'safety_ratings': []}, 'finish_reason': 'STOP', 'model_name': 'gemini-2.0-flash', 'safety_ratings': []}, id='run--1b4bbc9f-a3a8-4cb3-bbd9-6f0b49af91a8-0', usage_metadata={'input_tokens': 467, 'output_tokens': 28, 'total_tokens': 495, 'input_token_details': {'cache_read': 0}})]}})\n",
      "----\n",
      "((), {'customer_agent': {'customer_id': 3, 'is_login': True, 'name': 'Long', 'phone_number': '123', 'address': '123 HCM', 'next_node': 'cart_agent', 'messages': [AIMessage(content='Dạ số điện thoại này đã có trong hệ thống, mình có muốn tiếp tục thêm sản phẩm vào giỏ hàng không ạ?', additional_kwargs={}, response_metadata={}, name='customer_agent')]}})\n",
      "----\n",
      "(('cart_agent:4471bb05-fc12-0548-6bde-32dbd9f747a3',), {'agent': {'messages': [AIMessage(content='', additional_kwargs={'function_call': {'name': 'add_cart', 'arguments': '{}'}}, response_metadata={'prompt_feedback': {'block_reason': 0, 'safety_ratings': []}, 'finish_reason': 'STOP', 'model_name': 'gemini-2.0-flash', 'safety_ratings': []}, id='run--cd40d64f-5200-4289-b3f1-84e495ff1c5c-0', tool_calls=[{'name': 'add_cart', 'args': {}, 'id': '8d5f40d5-1297-4d6b-b590-7457979d09a9', 'type': 'tool_call'}], usage_metadata={'input_tokens': 424, 'output_tokens': 3, 'total_tokens': 427, 'input_token_details': {'cache_read': 0}})]}})\n",
      "----\n",
      "(('cart_agent:4471bb05-fc12-0548-6bde-32dbd9f747a3',), {'tools': {'cart': [{'product_id': 26956171339, 'sku': 'SH326', 'product_name': 'Bóng Đèn Led Thông Minh TP-Link Tapo L510E', 'variance_description': '', 'quantity': 1, 'price': 299000, 'subtotal': 299000}], 'next_node': 'cart_agent', 'messages': [ToolMessage(content='Add product successfully. Call gat_cart tool to return cart to customer', name='add_cart', id='2ec7a02d-c853-496a-9e20-bf4881f3a50a', tool_call_id='8d5f40d5-1297-4d6b-b590-7457979d09a9')]}})\n",
      "----\n",
      "(('cart_agent:4471bb05-fc12-0548-6bde-32dbd9f747a3',), {'agent': {'messages': [AIMessage(content='Dạ, em đã thêm sản phẩm vào giỏ hàng thành công ạ.', additional_kwargs={}, response_metadata={'prompt_feedback': {'block_reason': 0, 'safety_ratings': []}, 'finish_reason': 'STOP', 'model_name': 'gemini-2.0-flash', 'safety_ratings': []}, id='run--98c3f166-da68-42a9-83b5-af209119c816-0', usage_metadata={'input_tokens': 445, 'output_tokens': 17, 'total_tokens': 462, 'input_token_details': {'cache_read': 0}})]}})\n",
      "----\n",
      "((), {'cart_agent': {'messages': [AIMessage(content='Dạ, em đã thêm sản phẩm vào giỏ hàng thành công ạ.', additional_kwargs={}, response_metadata={}, name='cart_agent')], 'cart': [{'product_id': 26956171339, 'sku': 'SH326', 'product_name': 'Bóng Đèn Led Thông Minh TP-Link Tapo L510E', 'variance_description': '', 'quantity': 1, 'price': 299000, 'subtotal': 299000}]}})\n",
      "----\n",
      "(('cart_agent:156f5ace-19cf-c89e-615e-d290ce147458',), {'agent': {'messages': [AIMessage(content='', additional_kwargs={'function_call': {'name': 'get_cart', 'arguments': '{}'}}, response_metadata={'prompt_feedback': {'block_reason': 0, 'safety_ratings': []}, 'finish_reason': 'STOP', 'model_name': 'gemini-2.0-flash', 'safety_ratings': []}, id='run--b970d24a-7e1e-4448-b7ce-f9f03426b5ca-0', tool_calls=[{'name': 'get_cart', 'args': {}, 'id': '1061ab63-2f45-47b1-a40b-d481c0eb09ae', 'type': 'tool_call'}], usage_metadata={'input_tokens': 440, 'output_tokens': 3, 'total_tokens': 443, 'input_token_details': {'cache_read': 0}})]}})\n",
      "----\n",
      "(('cart_agent:156f5ace-19cf-c89e-615e-d290ce147458',), {'tools': {'next_node': '__end__', 'messages': [ToolMessage(content='STT: 1\\nTên sản phẩm: Bóng Đèn Led Thông Minh TP-Link Tapo L510E\\nTên phân loại: \\nMã sản phẩm: 26956171339\\nMã phân loại: SH326\\nGiá: 299000 VNĐ\\nSố lượng: 1 cái\\nTổng giá sản phẩm: 299000 VNĐ\\n\\nTổng giá trị của giỏ hàng: 299000', name='get_cart', id='4e62aeb7-c183-496d-9d20-4720776ccff4', tool_call_id='1061ab63-2f45-47b1-a40b-d481c0eb09ae')]}})\n",
      "----\n",
      "(('cart_agent:156f5ace-19cf-c89e-615e-d290ce147458',), {'agent': {'messages': [AIMessage(content='Dạ đây là giỏ hàng của mình ạ:\\n\\n**STT: 1**\\n**Tên sản phẩm:** Bóng Đèn Led Thông Minh TP-Link Tapo L510E\\n**Mã sản phẩm:** 26956171339\\n**Giá:** 299.000 VNĐ\\n**Số lượng:** 1 cái\\n**Tổng giá sản phẩm:** 299.000 VNĐ\\n\\n**Tổng giá trị của giỏ hàng: 299.000 VNĐ**\\n\\nMình có muốn mua thêm sản phẩm nào nữa không ạ, hay mình lên đơn luôn ạ?', additional_kwargs={}, response_metadata={'prompt_feedback': {'block_reason': 0, 'safety_ratings': []}, 'finish_reason': 'STOP', 'model_name': 'gemini-2.0-flash', 'safety_ratings': []}, id='run--e220a84d-c911-4ddd-80ea-320749e05696-0', usage_metadata={'input_tokens': 555, 'output_tokens': 141, 'total_tokens': 696, 'input_token_details': {'cache_read': 0}})]}})\n",
      "----\n",
      "((), {'cart_agent': {'messages': [AIMessage(content='Dạ đây là giỏ hàng của mình ạ:\\n\\n**STT: 1**\\n**Tên sản phẩm:** Bóng Đèn Led Thông Minh TP-Link Tapo L510E\\n**Mã sản phẩm:** 26956171339\\n**Giá:** 299.000 VNĐ\\n**Số lượng:** 1 cái\\n**Tổng giá sản phẩm:** 299.000 VNĐ\\n\\n**Tổng giá trị của giỏ hàng: 299.000 VNĐ**\\n\\nMình có muốn mua thêm sản phẩm nào nữa không ạ, hay mình lên đơn luôn ạ?', additional_kwargs={}, response_metadata={}, name='cart_agent')], 'cart': [{'product_id': 26956171339, 'sku': 'SH326', 'product_name': 'Bóng Đèn Led Thông Minh TP-Link Tapo L510E', 'variance_description': '', 'quantity': 1, 'price': 299000, 'subtotal': 299000}]}})\n",
      "----\n"
     ]
    }
   ],
   "source": [
    "state[\"user_input\"] = \"sđt là 123\"\n",
    "for s in graph.stream(state, subgraphs=True, config=config):\n",
    "    print(s)\n",
    "    print(\"----\")"
   ]
  },
  {
   "cell_type": "code",
   "execution_count": 7,
   "metadata": {},
   "outputs": [
    {
     "name": "stdout",
     "output_type": "stream",
     "text": [
      "((), {'supervisor': {'messages': [HumanMessage(content='có camera an ninh ko', additional_kwargs={}, response_metadata={}, id='abbc4aaa-3510-4b9b-9e47-a06209239e01'), AIMessage(content='Chào quý khách, bên em có 2 sản phẩm camera an ninh ạ. Mình chọn sản phẩm nào để em lên đơn ạ? Cho em xin số điện thoại của mình để em tiện liên hệ tư vấn thêm về sản phẩm nhé ạ.', additional_kwargs={}, response_metadata={}, name='product_agent', id='2d309f73-b2a6-464a-9ca6-8c4348b6452f'), HumanMessage(content='số điện thoại là 123', additional_kwargs={}, response_metadata={}, id='d5380ef9-301b-48d8-9371-c0a9be8d6531'), AIMessage(content='Dạ, em thấy mình đã xem Camera An Ninh WiFi TP-Link TAPO C225 và Camera An Ninh Ngoài Trời IMOU Cruiser Z 5MP 12X ạ. Mình quan tâm đến sản phẩm nào hơn để em tư vấn chi tiết hơn ạ?', additional_kwargs={}, response_metadata={}, name='customer_agent', id='ae98cdf4-7898-4dc0-95d5-e5ffa00224ca'), HumanMessage(content='cho mình loại Camera An Ninh WiFi TP-Link TAPO C225 nhé', additional_kwargs={}, response_metadata={}, id='89afe1e4-b4ff-4378-931f-09cf60ba0405')], 'next_node': 'product_agent'}})\n",
      "----\n",
      "(('product_agent:800882a8-db25-2e9e-d24b-7a5848a00970',), {'agent': {'messages': [AIMessage(content='', additional_kwargs={'function_call': {'name': 'choose_product', 'arguments': '{}'}}, response_metadata={'prompt_feedback': {'block_reason': 0, 'safety_ratings': []}, 'finish_reason': 'STOP', 'model_name': 'gemini-2.0-flash', 'safety_ratings': []}, id='run--558f81cf-8cab-4b54-a88f-0675443274a7-0', tool_calls=[{'name': 'choose_product', 'args': {}, 'id': 'ef3d2b3a-6826-4636-bc74-37cb11a65c57', 'type': 'tool_call'}], usage_metadata={'input_tokens': 462, 'output_tokens': 3, 'total_tokens': 465, 'input_token_details': {'cache_read': 0}})]}})\n",
      "----\n",
      "(('product_agent:800882a8-db25-2e9e-d24b-7a5848a00970',), {'tools': {'messages': [ToolMessage(content='Product identified. Continue add product to cart', name='choose_product', id='c77121e2-f4f0-4853-8156-7d6af65196cc', tool_call_id='ef3d2b3a-6826-4636-bc74-37cb11a65c57')], 'next_node': 'cart_agent', 'product_chosen': {'product_name': 'Camera An Ninh WiFi TP-Link TAPO C225', 'sku': 'SH331', 'variance_description': '', 'product_id': 28006319841.0, 'price': 1499000.0}}})\n",
      "----\n",
      "(('product_agent:800882a8-db25-2e9e-d24b-7a5848a00970',), {'agent': {'messages': [AIMessage(content='Dạ vâng, em đã chọn Camera An Ninh WiFi TP-Link TAPO C225 cho mình rồi ạ. Em sẽ lên đơn hàng và liên hệ mình qua số điện thoại 123 để xác nhận và hỗ trợ giao hàng nhanh chóng nhé ạ. Mình có cần thêm thông tin gì về sản phẩm này nữa không ạ?', additional_kwargs={}, response_metadata={'prompt_feedback': {'block_reason': 0, 'safety_ratings': []}, 'finish_reason': 'STOP', 'model_name': 'gemini-2.0-flash', 'safety_ratings': []}, id='run--0ed534de-fe23-49a8-bac6-75d8ea89ffc6-0', usage_metadata={'input_tokens': 477, 'output_tokens': 73, 'total_tokens': 550, 'input_token_details': {'cache_read': 0}})]}})\n",
      "----\n",
      "((), {'product_agent': {'messages': [AIMessage(content='Dạ vâng, em đã chọn Camera An Ninh WiFi TP-Link TAPO C225 cho mình rồi ạ. Em sẽ lên đơn hàng và liên hệ mình qua số điện thoại 123 để xác nhận và hỗ trợ giao hàng nhanh chóng nhé ạ. Mình có cần thêm thông tin gì về sản phẩm này nữa không ạ?', additional_kwargs={}, response_metadata={}, name='product_agent')], 'seen_products': [{'product_id': 28006319841, 'sku': 'SH331', 'product_name': 'Camera An Ninh WiFi TP-Link TAPO C225', 'variance_description': '', 'price': 1499000}, {'product_id': 24434003953, 'sku': 'SH335', 'product_name': 'Camera An Ninh Ngoài Trời IMOU Cruiser Z 5MP 12X', 'variance_description': '', 'price': 2790000}], 'product_chosen': {'product_name': 'Camera An Ninh WiFi TP-Link TAPO C225', 'sku': 'SH331', 'variance_description': '', 'product_id': 28006319841.0, 'price': 1499000.0}, 'next_node': 'cart_agent'}})\n",
      "----\n",
      "(('cart_agent:28e219a2-d329-e7b1-65ca-94ca4182b262',), {'agent': {'messages': [AIMessage(content='', additional_kwargs={'function_call': {'name': 'add_cart', 'arguments': '{}'}}, response_metadata={'prompt_feedback': {'block_reason': 0, 'safety_ratings': []}, 'finish_reason': 'STOP', 'model_name': 'gemini-2.0-flash', 'safety_ratings': []}, id='run--c8068e5d-3865-4e8e-8e44-e46ddf016fdd-0', tool_calls=[{'name': 'add_cart', 'args': {}, 'id': '7bebaed5-7633-4ce9-9259-8691cb0e9726', 'type': 'tool_call'}], usage_metadata={'input_tokens': 453, 'output_tokens': 3, 'total_tokens': 456, 'input_token_details': {'cache_read': 0}})]}})\n",
      "----\n",
      "(('cart_agent:28e219a2-d329-e7b1-65ca-94ca4182b262',), {'tools': {'cart': [{'product_id': 28006319841.0, 'sku': 'SH331', 'product_name': 'Camera An Ninh WiFi TP-Link TAPO C225', 'variance_description': '', 'quantity': 1, 'price': 1499000.0, 'subtotal': 1499000.0}], 'next_node': 'cart_agent', 'messages': [ToolMessage(content='Add product successfully. Call gat_cart tool to return cart to customer', name='add_cart', id='0027f305-6d03-44f6-99f6-67b65d18db96', tool_call_id='7bebaed5-7633-4ce9-9259-8691cb0e9726')]}})\n",
      "----\n",
      "(('cart_agent:28e219a2-d329-e7b1-65ca-94ca4182b262',), {'agent': {'messages': [AIMessage(content='Em đã thêm Camera An Ninh WiFi TP-Link TAPO C225 vào giỏ hàng thành công rồi ạ.', additional_kwargs={'function_call': {'name': 'get_cart', 'arguments': '{}'}}, response_metadata={'prompt_feedback': {'block_reason': 0, 'safety_ratings': []}, 'finish_reason': 'STOP', 'model_name': 'gemini-2.0-flash', 'safety_ratings': []}, id='run--8c07fa10-a2c3-40f1-8d4e-4310e08e92b5-0', tool_calls=[{'name': 'get_cart', 'args': {}, 'id': '8f6068ac-4980-4556-b391-ccdbd16bc8a0', 'type': 'tool_call'}], usage_metadata={'input_tokens': 474, 'output_tokens': 29, 'total_tokens': 503, 'input_token_details': {'cache_read': 0}})]}})\n",
      "----\n",
      "(('cart_agent:28e219a2-d329-e7b1-65ca-94ca4182b262',), {'tools': {'next_node': '__end__', 'messages': [ToolMessage(content='STT: 1\\nTên sản phẩm: Camera An Ninh WiFi TP-Link TAPO C225\\nTên phân loại: \\nMã sản phẩm: 28006319841.0\\nMã phân loại: SH331\\nGiá: 1499000.0 VNĐ\\nSố lượng: 1 cái\\nTổng giá sản phẩm: 1499000.0 VNĐ\\n\\nTổng giá trị của giỏ hàng: 1499000.0', name='get_cart', id='8da2e6b2-a93b-489c-94bf-f88418bc8b13', tool_call_id='8f6068ac-4980-4556-b391-ccdbd16bc8a0')]}})\n",
      "----\n",
      "(('cart_agent:28e219a2-d329-e7b1-65ca-94ca4182b262',), {'agent': {'messages': [AIMessage(content='Em đã thêm Camera An Ninh WiFi TP-Link TAPO C225 vào giỏ hàng cho mình rồi ạ. Đây là thông tin giỏ hàng của mình:\\n\\n*   **Tên sản phẩm:** Camera An Ninh WiFi TP-Link TAPO C225\\n*   **Số lượng:** 1\\n*   **Tổng giá:** 1.499.000 VNĐ\\n\\nMình có muốn mua thêm sản phẩm nào nữa không ạ, hay là em lên đơn hàng này luôn cho mình ạ?', additional_kwargs={}, response_metadata={'prompt_feedback': {'block_reason': 0, 'safety_ratings': []}, 'finish_reason': 'STOP', 'model_name': 'gemini-2.0-flash', 'safety_ratings': []}, id='run--1d2e416b-3bc9-4e27-a581-559b4544c191-0', usage_metadata={'input_tokens': 596, 'output_tokens': 110, 'total_tokens': 706, 'input_token_details': {'cache_read': 0}})]}})\n",
      "----\n",
      "((), {'cart_agent': {'messages': [AIMessage(content='Em đã thêm Camera An Ninh WiFi TP-Link TAPO C225 vào giỏ hàng cho mình rồi ạ. Đây là thông tin giỏ hàng của mình:\\n\\n*   **Tên sản phẩm:** Camera An Ninh WiFi TP-Link TAPO C225\\n*   **Số lượng:** 1\\n*   **Tổng giá:** 1.499.000 VNĐ\\n\\nMình có muốn mua thêm sản phẩm nào nữa không ạ, hay là em lên đơn hàng này luôn cho mình ạ?', additional_kwargs={}, response_metadata={}, name='cart_agent')], 'cart': [{'product_id': 28006319841.0, 'sku': 'SH331', 'product_name': 'Camera An Ninh WiFi TP-Link TAPO C225', 'variance_description': '', 'quantity': 1, 'price': 1499000.0, 'subtotal': 1499000.0}]}})\n",
      "----\n"
     ]
    }
   ],
   "source": [
    "state[\"user_input\"] = \"cho mình loại Camera An Ninh WiFi TP-Link TAPO C225 nhé\"\n",
    "for s in graph.stream(state, subgraphs=True, config=config):\n",
    "    print(s)\n",
    "    print(\"----\")"
   ]
  },
  {
   "cell_type": "code",
   "execution_count": 8,
   "metadata": {},
   "outputs": [
    {
     "name": "stdout",
     "output_type": "stream",
     "text": [
      "((), {'supervisor': {'messages': [HumanMessage(content='có camera an ninh ko', additional_kwargs={}, response_metadata={}, id='abbc4aaa-3510-4b9b-9e47-a06209239e01'), AIMessage(content='Chào quý khách, bên em có 2 sản phẩm camera an ninh ạ. Mình chọn sản phẩm nào để em lên đơn ạ? Cho em xin số điện thoại của mình để em tiện liên hệ tư vấn thêm về sản phẩm nhé ạ.', additional_kwargs={}, response_metadata={}, name='product_agent', id='2d309f73-b2a6-464a-9ca6-8c4348b6452f'), HumanMessage(content='số điện thoại là 123', additional_kwargs={}, response_metadata={}, id='d5380ef9-301b-48d8-9371-c0a9be8d6531'), AIMessage(content='Dạ, em thấy mình đã xem Camera An Ninh WiFi TP-Link TAPO C225 và Camera An Ninh Ngoài Trời IMOU Cruiser Z 5MP 12X ạ. Mình quan tâm đến sản phẩm nào hơn để em tư vấn chi tiết hơn ạ?', additional_kwargs={}, response_metadata={}, name='customer_agent', id='ae98cdf4-7898-4dc0-95d5-e5ffa00224ca'), HumanMessage(content='cho mình loại Camera An Ninh WiFi TP-Link TAPO C225 nhé', additional_kwargs={}, response_metadata={}, id='89afe1e4-b4ff-4378-931f-09cf60ba0405'), AIMessage(content='Dạ vâng, em đã chọn Camera An Ninh WiFi TP-Link TAPO C225 cho mình rồi ạ. Em sẽ lên đơn hàng và liên hệ mình qua số điện thoại 123 để xác nhận và hỗ trợ giao hàng nhanh chóng nhé ạ. Mình có cần thêm thông tin gì về sản phẩm này nữa không ạ?', additional_kwargs={}, response_metadata={}, name='product_agent', id='6ea9a7fb-1ef1-4423-a5ec-1253c4710cac'), AIMessage(content='Em đã thêm Camera An Ninh WiFi TP-Link TAPO C225 vào giỏ hàng cho mình rồi ạ. Đây là thông tin giỏ hàng của mình:\\n\\n*   **Tên sản phẩm:** Camera An Ninh WiFi TP-Link TAPO C225\\n*   **Số lượng:** 1\\n*   **Tổng giá:** 1.499.000 VNĐ\\n\\nMình có muốn mua thêm sản phẩm nào nữa không ạ, hay là em lên đơn hàng này luôn cho mình ạ?', additional_kwargs={}, response_metadata={}, name='cart_agent', id='0132c9ae-513a-459f-9fff-d9e34652cb22'), HumanMessage(content='uk lên đơn luôn đi', additional_kwargs={}, response_metadata={}, id='8f3cb613-8392-4db1-8233-5fcd2d6e158b')], 'next_node': 'order_agent'}})\n",
      "----\n",
      "(('order_agent:0b268604-3e77-0e39-02dd-8be3a2a86b70',), {'agent': {'messages': [AIMessage(content='', additional_kwargs={'function_call': {'name': 'create_order', 'arguments': '{}'}}, response_metadata={'prompt_feedback': {'block_reason': 0, 'safety_ratings': []}, 'finish_reason': 'STOP', 'model_name': 'gemini-2.0-flash', 'safety_ratings': []}, id='run--e6a4d11e-f2b4-4f59-aed9-83b080bd2e97-0', tool_calls=[{'name': 'create_order', 'args': {}, 'id': 'bbf28ab5-71d4-4a41-a221-384d5863e875', 'type': 'tool_call'}], usage_metadata={'input_tokens': 441, 'output_tokens': 3, 'total_tokens': 444, 'input_token_details': {'cache_read': 0}})]}})\n",
      "----\n",
      ">>>> content: Mã đơn hàng: 27\n",
      "(('order_agent:0b268604-3e77-0e39-02dd-8be3a2a86b70',), {'tools': {'messages': [ToolMessage(content='Create order successfully.\\nReturn order to customer:\\nMã đơn hàng: 27STT: 1.\\nTên sản phẩm: Camera An Ninh WiFi TP-Link TAPO C225\\nTên phân loại sản phẩm: \\nMã sản phẩm: 28006319841\\nMã SKU: SH331\\nGiá của sản phẩm: 1499000\\nSố lượng: 1\\nGiá cuối cùng: 1499000\\n\\nTên khách hàng: Long\\nSố điện thoại khách hàng: 123\\nĐịa chỉ khách hàng: 123 HCM\\nPhương thức thanh toán: COD\\nTổng đơn hàng (chưa tính phí ship): 1499000\\nPhí ship: 50000\\nTổng đơn hàng (đã bao gồm phí ship): 1549000\\n', name='create_order', tool_call_id='bbf28ab5-71d4-4a41-a221-384d5863e875')], 'next_node': '__end__'}})\n",
      "----\n",
      "(('order_agent:0b268604-3e77-0e39-02dd-8be3a2a86b70',), {'agent': {'messages': [AIMessage(content='Dạ, em đã lên đơn hàng cho mình rồi ạ. Mã đơn hàng của mình là 27 ạ. Tổng đơn hàng (đã bao gồm phí ship) là 1.549.000 VNĐ ạ. Bên em sẽ liên hệ mình qua số điện thoại 123 để xác nhận và giao hàng trong thời gian sớm nhất ạ. Cảm ơn quý khách đã tin tưởng và mua hàng tại hệ thống của chúng em ạ!', additional_kwargs={}, response_metadata={'prompt_feedback': {'block_reason': 0, 'safety_ratings': []}, 'finish_reason': 'STOP', 'model_name': 'gemini-2.0-flash', 'safety_ratings': []}, id='run--943e6fcb-2d02-42cd-8deb-ed9e6967fd13-0', usage_metadata={'input_tokens': 641, 'output_tokens': 97, 'total_tokens': 738, 'input_token_details': {'cache_read': 0}})]}})\n",
      "----\n",
      "((), {'order_agent': {'messages': [AIMessage(content='Dạ, em đã lên đơn hàng cho mình rồi ạ. Mã đơn hàng của mình là 27 ạ. Tổng đơn hàng (đã bao gồm phí ship) là 1.549.000 VNĐ ạ. Bên em sẽ liên hệ mình qua số điện thoại 123 để xác nhận và giao hàng trong thời gian sớm nhất ạ. Cảm ơn quý khách đã tin tưởng và mua hàng tại hệ thống của chúng em ạ!', additional_kwargs={}, response_metadata={}, name='order_agent')], 'next_node': '__end__'}})\n",
      "----\n"
     ]
    }
   ],
   "source": [
    "state[\"user_input\"] = \"uk lên đơn luôn đi\"\n",
    "for s in graph.stream(state, subgraphs=True, config=config):\n",
    "    print(s)\n",
    "    print(\"----\")"
   ]
  },
  {
   "cell_type": "code",
   "execution_count": 11,
   "metadata": {},
   "outputs": [
    {
     "name": "stdout",
     "output_type": "stream",
     "text": [
      "((), {'supervisor': {'messages': [HumanMessage(content='có camera an ninh ko', additional_kwargs={}, response_metadata={}, id='5a31cc9c-f850-4760-a8fd-6c175977d7b2'), AIMessage(content='Dạ bên em có 2 loại camera an ninh này ạ. Mình chọn loại nào để em lên đơn ạ? Cho em xin số điện thoại của mình luôn nha.\\n1. Camera An Ninh WiFi TP-Link TAPO C225: Camera AI 2K 4MP Theo Dõi Chuyển Động Cảm Biến Ánh Sáng Đàm Thoại 2 Chiều, giá 1499000\\n2. Camera An Ninh Ngoài Trời IMOU Cruiser Z 5MP 12X: Phát Hiện Người Chống Bụi Chống Nước IP66 Màu Ban Đêm Tích Hợp Còi, giá 2790000', additional_kwargs={}, response_metadata={}, name='product_agent', id='ebdd9017-8e19-499d-a48d-8cde62609a57'), HumanMessage(content='số điện thoại là 123', additional_kwargs={}, response_metadata={}, id='e5869bc6-1c3d-4204-aca4-09ee0983132b'), AIMessage(content='Dạ em thấy mình đã xem 2 loại camera an ninh này rồi ạ:\\n\\n1. Camera An Ninh WiFi TP-Link TAPO C225 (1499000)\\n2. Camera An Ninh Ngoài Trời IMOU Cruiser Z 5MP 12X (2790000)\\n\\nMình chọn loại nào để em lên đơn ạ?', additional_kwargs={}, response_metadata={}, name='customer_agent', id='39339d64-7517-479e-87ee-16675f78a1f7'), HumanMessage(content='cho mình loại Camera An Ninh WiFi TP-Link TAPO C225 nhé', additional_kwargs={}, response_metadata={}, id='04af3a58-4c91-42c3-abb7-070358db98ab'), AIMessage(content='', additional_kwargs={}, response_metadata={}, name='product_agent', id='c9d9c900-7f59-45c2-bbb0-732d8980f433'), AIMessage(content='Dạ đúng rồi ạ, mình chọn Camera An Ninh WiFi TP-Link TAPO C225 giá 1499000 đúng không ạ? Em lên đơn cho mình luôn nha.', additional_kwargs={}, response_metadata={}, name='product_agent', id='553e5815-86f7-4125-a878-357a82cab085'), HumanMessage(content='uk lên đơn luôn đi', additional_kwargs={}, response_metadata={}, id='b0ab255c-ce44-4beb-ad73-9cbd450231b7'), AIMessage(content='Dạ em đã thêm vào giỏ hàng thành công sản phẩm Camera An Ninh WiFi TP-Link TAPO C225 rồi ạ. Đây là giỏ hàng của mình ạ:\\n\\nSTT: 1\\nTên sản phẩm: Camera An Ninh WiFi TP-Link TAPO C225\\nTên phân loại: \\nMã sản phẩm: 28006319841\\nMã phân loại: SH331\\nGiá: 1499000 VNĐ\\nSố lượng: 1 cái\\nTổng giá sản phẩm: 1499000 VNĐ\\n\\nTổng giá trị của giỏ hàng: 1499000\\n\\nMình có muốn mua thêm gì nữa không ạ hay em lên đơn luôn ạ?', additional_kwargs={}, response_metadata={}, name='cart_agent', id='328fdc5c-bb4f-46d7-b152-6adc986359fd'), HumanMessage(content='cho mình đặt mua luôn đi', additional_kwargs={}, response_metadata={}, id='6d42a48c-d4d4-43b4-bf24-a2999eec5e0e')], 'next_node': 'order_agent'}})\n",
      "----\n",
      "(('order_agent:6cf86e64-872a-d942-48a4-0ff6f898ac6b',), {'agent': {'messages': [AIMessage(content='', additional_kwargs={'function_call': {'name': 'create_order', 'arguments': '{}'}}, response_metadata={'prompt_feedback': {'block_reason': 0, 'safety_ratings': []}, 'finish_reason': 'STOP', 'model_name': 'gemini-2.0-flash', 'safety_ratings': []}, id='run--65107f11-c3c1-446b-ac50-9236af1da7da-0', tool_calls=[{'name': 'create_order', 'args': {}, 'id': 'a571dc56-50d7-451d-b16d-e51c364caaef', 'type': 'tool_call'}], usage_metadata={'input_tokens': 596, 'output_tokens': 3, 'total_tokens': 599, 'input_token_details': {'cache_read': 0}})]}})\n",
      "----\n",
      "(('order_agent:6cf86e64-872a-d942-48a4-0ff6f898ac6b',), {'tools': {'messages': [ToolMessage(content=\"Error: OperationalError('(psycopg2.OperationalError) SSL connection has been closed unexpectedly\\\\n')\\n Please fix your mistakes.\", name='create_order', id='b5003713-d4f3-4c89-b12a-49b948e93ab1', tool_call_id='a571dc56-50d7-451d-b16d-e51c364caaef', status='error')]}})\n",
      "----\n",
      "(('order_agent:6cf86e64-872a-d942-48a4-0ff6f898ac6b',), {'agent': {'messages': [AIMessage(content='Dạ, rất tiếc hệ thống đang có chút lỗi, mình vui lòng thử lại sau giúp em nha.', additional_kwargs={}, response_metadata={'prompt_feedback': {'block_reason': 0, 'safety_ratings': []}, 'finish_reason': 'STOP', 'model_name': 'gemini-2.0-flash', 'safety_ratings': []}, id='run--af4d9c72-f3a1-4f4b-8b06-62704c82a2c3-0', usage_metadata={'input_tokens': 631, 'output_tokens': 23, 'total_tokens': 654, 'input_token_details': {'cache_read': 0}})]}})\n",
      "----\n",
      "((), {'order_agent': {'messages': [AIMessage(content='Dạ, rất tiếc hệ thống đang có chút lỗi, mình vui lòng thử lại sau giúp em nha.', additional_kwargs={}, response_metadata={}, name='order_agent')], 'next_node': 'order_agent'}})\n",
      "----\n"
     ]
    }
   ],
   "source": [
    "state[\"user_input\"] = \"cho mình đặt mua luôn đi\"\n",
    "for s in graph.stream(state, subgraphs=True, config=config):\n",
    "    print(s)\n",
    "    print(\"----\")"
   ]
  },
  {
   "cell_type": "code",
   "execution_count": 10,
   "metadata": {},
   "outputs": [
    {
     "data": {
      "text/plain": [
       "{'messages': [HumanMessage(content='có camera an ninh ko', additional_kwargs={}, response_metadata={}, id='5a31cc9c-f850-4760-a8fd-6c175977d7b2'),\n",
       "  AIMessage(content='Dạ bên em có 2 loại camera an ninh này ạ. Mình chọn loại nào để em lên đơn ạ? Cho em xin số điện thoại của mình luôn nha.\\n1. Camera An Ninh WiFi TP-Link TAPO C225: Camera AI 2K 4MP Theo Dõi Chuyển Động Cảm Biến Ánh Sáng Đàm Thoại 2 Chiều, giá 1499000\\n2. Camera An Ninh Ngoài Trời IMOU Cruiser Z 5MP 12X: Phát Hiện Người Chống Bụi Chống Nước IP66 Màu Ban Đêm Tích Hợp Còi, giá 2790000', additional_kwargs={}, response_metadata={}, name='product_agent', id='ebdd9017-8e19-499d-a48d-8cde62609a57'),\n",
       "  HumanMessage(content='số điện thoại là 123', additional_kwargs={}, response_metadata={}, id='e5869bc6-1c3d-4204-aca4-09ee0983132b'),\n",
       "  AIMessage(content='Dạ em thấy mình đã xem 2 loại camera an ninh này rồi ạ:\\n\\n1. Camera An Ninh WiFi TP-Link TAPO C225 (1499000)\\n2. Camera An Ninh Ngoài Trời IMOU Cruiser Z 5MP 12X (2790000)\\n\\nMình chọn loại nào để em lên đơn ạ?', additional_kwargs={}, response_metadata={}, name='customer_agent', id='39339d64-7517-479e-87ee-16675f78a1f7'),\n",
       "  HumanMessage(content='cho mình loại Camera An Ninh WiFi TP-Link TAPO C225 nhé', additional_kwargs={}, response_metadata={}, id='04af3a58-4c91-42c3-abb7-070358db98ab'),\n",
       "  AIMessage(content='', additional_kwargs={}, response_metadata={}, name='product_agent', id='c9d9c900-7f59-45c2-bbb0-732d8980f433'),\n",
       "  AIMessage(content='Dạ đúng rồi ạ, mình chọn Camera An Ninh WiFi TP-Link TAPO C225 giá 1499000 đúng không ạ? Em lên đơn cho mình luôn nha.', additional_kwargs={}, response_metadata={}, name='product_agent', id='553e5815-86f7-4125-a878-357a82cab085'),\n",
       "  HumanMessage(content='uk lên đơn luôn đi', additional_kwargs={}, response_metadata={}, id='b0ab255c-ce44-4beb-ad73-9cbd450231b7'),\n",
       "  AIMessage(content='Dạ em đã thêm vào giỏ hàng thành công sản phẩm Camera An Ninh WiFi TP-Link TAPO C225 rồi ạ. Đây là giỏ hàng của mình ạ:\\n\\nSTT: 1\\nTên sản phẩm: Camera An Ninh WiFi TP-Link TAPO C225\\nTên phân loại: \\nMã sản phẩm: 28006319841\\nMã phân loại: SH331\\nGiá: 1499000 VNĐ\\nSố lượng: 1 cái\\nTổng giá sản phẩm: 1499000 VNĐ\\n\\nTổng giá trị của giỏ hàng: 1499000\\n\\nMình có muốn mua thêm gì nữa không ạ hay em lên đơn luôn ạ?', additional_kwargs={}, response_metadata={}, name='cart_agent', id='328fdc5c-bb4f-46d7-b152-6adc986359fd')],\n",
       " 'user_input': 'uk lên đơn luôn đi',\n",
       " 'next_node': 'cart_agent',\n",
       " 'check_customer_info': None,\n",
       " 'customer_id': 3,\n",
       " 'name': 'Long',\n",
       " 'phone_number': '123',\n",
       " 'address': '123 HCM',\n",
       " 'is_login': False,\n",
       " 'cart': [{'product_id': 28006319841,\n",
       "   'sku': 'SH331',\n",
       "   'product_name': 'Camera An Ninh WiFi TP-Link TAPO C225',\n",
       "   'variance_description': '',\n",
       "   'quantity': 1,\n",
       "   'price': 1499000,\n",
       "   'subtotal': 1499000}],\n",
       " 'seen_products': [{'product_id': 28006319841,\n",
       "   'sku': 'SH331',\n",
       "   'product_name': 'Camera An Ninh WiFi TP-Link TAPO C225',\n",
       "   'variance_description': '',\n",
       "   'price': 1499000},\n",
       "  {'product_id': 24434003953,\n",
       "   'sku': 'SH335',\n",
       "   'product_name': 'Camera An Ninh Ngoài Trời IMOU Cruiser Z 5MP 12X',\n",
       "   'variance_description': '',\n",
       "   'price': 2790000},\n",
       "  {'product_id': 28006319841,\n",
       "   'sku': 'SH331',\n",
       "   'product_name': 'Camera An Ninh WiFi TP-Link TAPO C225',\n",
       "   'variance_description': '',\n",
       "   'price': 1499000},\n",
       "  {'product_id': 24434003953,\n",
       "   'sku': 'SH335',\n",
       "   'product_name': 'Camera An Ninh Ngoài Trời IMOU Cruiser Z 5MP 12X',\n",
       "   'variance_description': '',\n",
       "   'price': 2790000},\n",
       "  {'product_id': 28006319841,\n",
       "   'sku': 'SH331',\n",
       "   'product_name': 'Camera An Ninh WiFi TP-Link TAPO C225',\n",
       "   'variance_description': '',\n",
       "   'price': 1499000},\n",
       "  {'product_id': 24434003953,\n",
       "   'sku': 'SH335',\n",
       "   'product_name': 'Camera An Ninh Ngoài Trời IMOU Cruiser Z 5MP 12X',\n",
       "   'variance_description': '',\n",
       "   'price': 2790000},\n",
       "  {'product_id': 28006319841,\n",
       "   'sku': 'SH331',\n",
       "   'product_name': 'Camera An Ninh WiFi TP-Link TAPO C225',\n",
       "   'variance_description': '',\n",
       "   'price': 1499000},\n",
       "  {'product_id': 24434003953,\n",
       "   'sku': 'SH335',\n",
       "   'product_name': 'Camera An Ninh Ngoài Trời IMOU Cruiser Z 5MP 12X',\n",
       "   'variance_description': '',\n",
       "   'price': 2790000},\n",
       "  {'product_id': 28006319841,\n",
       "   'sku': 'SH331',\n",
       "   'product_name': 'Camera An Ninh WiFi TP-Link TAPO C225',\n",
       "   'variance_description': '',\n",
       "   'price': 1499000}],\n",
       " 'product_chosen': {'product_id': 28006319841,\n",
       "  'sku': 'SH331',\n",
       "  'product_name': 'Camera An Ninh WiFi TP-Link TAPO C225',\n",
       "  'variance_description': '',\n",
       "  'price': 1499000}}"
      ]
     },
     "execution_count": 10,
     "metadata": {},
     "output_type": "execute_result"
    }
   ],
   "source": [
    "graph.get_state(config).values"
   ]
  },
  {
   "cell_type": "markdown",
   "metadata": {},
   "source": [
    "## Test"
   ]
  },
  {
   "cell_type": "code",
   "execution_count": 1,
   "metadata": {},
   "outputs": [],
   "source": [
    "from app.core.graph import build_graph\n",
    "from app.core.state import init_state\n",
    "from langgraph.graph.message import add_messages\n",
    "from langchain_core.messages import HumanMessage\n",
    "from langgraph.types import Command\n",
    "\n",
    "graph = build_graph()"
   ]
  },
  {
   "cell_type": "code",
   "execution_count": 3,
   "metadata": {},
   "outputs": [],
   "source": [
    "# from IPython.display import display, Image\n",
    "\n",
    "# display(Image(graph.get_graph().draw_mermaid_png()))\n"
   ]
  },
  {
   "cell_type": "code",
   "execution_count": 2,
   "metadata": {},
   "outputs": [
    {
     "name": "stdout",
     "output_type": "stream",
     "text": [
      "================================\u001b[1m Human Message \u001b[0m=================================\n",
      "\n",
      "có đèn led thông minh không\n",
      "None\n",
      "==================================\u001b[1m Ai Message \u001b[0m==================================\n",
      "Name: product_agent\n",
      "\n",
      "Chào bạn, bên mình có sản phẩm Bóng Đèn Led Thông Minh TP-Link Tapo L510E, giá 299000 VNĐ. Đây có phải sản phẩm bạn muốn tìm không ạ? Nếu đúng, bạn vui lòng cho mình xin số điện thoại để mình lên đơn và hỗ trợ tư vấn thêm về sản phẩm nhé.\n",
      "None\n"
     ]
    }
   ],
   "source": [
    "state = init_state()\n",
    "\n",
    "config = {\n",
    "    \"configurable\": \n",
    "    {\n",
    "        \"thread_id\": \"1\"\n",
    "    }\n",
    "}\n",
    "\n",
    "state[\"user_input\"] = \"có đèn led thông minh không\"\n",
    "\n",
    "for event in graph.stream(state, config):\n",
    "    for node, value in event.items():\n",
    "        if \"messages\" in value:\n",
    "            print(value[\"messages\"][-1].pretty_print())\n",
    "        else:\n",
    "            print(value)"
   ]
  },
  {
   "cell_type": "code",
   "execution_count": 3,
   "metadata": {},
   "outputs": [
    {
     "name": "stdout",
     "output_type": "stream",
     "text": [
      "================================\u001b[1m Human Message \u001b[0m=================================\n",
      "\n",
      "sđt là 123\n",
      "None\n",
      "==================================\u001b[1m Ai Message \u001b[0m==================================\n",
      "Name: customer_agent\n",
      "\n",
      "Chào bạn, số điện thoại này đã có tài khoản trên hệ thống của cửa hàng rồi ạ. Bạn muốn mua đèn LED thông minh TP-Link Tapo L510E phải không ạ? Mình thêm sản phẩm vào giỏ hàng cho bạn nhé.\n",
      "None\n",
      "==================================\u001b[1m Ai Message \u001b[0m==================================\n",
      "Name: cart_agent\n",
      "None\n",
      "==================================\u001b[1m Ai Message \u001b[0m==================================\n",
      "Name: cart_agent\n",
      "\n",
      "Dạ, mình đã thêm đèn LED thông minh TP-Link Tapo L510E vào giỏ hàng cho bạn rồi ạ. Đây là thông tin giỏ hàng của bạn:\n",
      "\n",
      "**STT**: 1\n",
      "**Tên sản phẩm**: Bóng Đèn Led Thông Minh TP-Link Tapo L510E\n",
      "**Giá**: 299000 VNĐ\n",
      "**Số lượng**: 1 cái\n",
      "**Tổng giá trị của giỏ hàng**: 299000 VNĐ\n",
      "\n",
      "Bạn có muốn mình hỗ trợ thêm gì nữa không ạ?\n",
      "None\n"
     ]
    }
   ],
   "source": [
    "state[\"user_input\"] = \"sđt là 123\"\n",
    "\n",
    "for event in graph.stream(state, config):\n",
    "    for node, value in event.items():\n",
    "        if \"messages\" in value:\n",
    "            print(value[\"messages\"][-1].pretty_print())\n",
    "        else:\n",
    "            print(value)"
   ]
  },
  {
   "cell_type": "code",
   "execution_count": 1,
   "metadata": {},
   "outputs": [
    {
     "name": "stdout",
     "output_type": "stream",
     "text": [
      ">>>>> order_items: [{'order_id': 24, 'product_id': 26956171339, 'product_name': 'Bóng Đèn Led Thông Minh TP-Link Tapo L510E', 'variance_name': '', 'sku': 'SH326', 'quantity': 1, 'price': 299000, 'subtotal': 299000}]\n",
      ">>>>> order_info: {'customer_name': 'Long', 'customer_phone': '123', 'customer_address': '123 HCM', 'payment': 'COD', 'order_total': 299000, 'shipping_fee': 50000, 'grand_total': 349000}\n",
      ">>>> content: Mã đơn hàng: 24\n"
     ]
    }
   ],
   "source": [
    "from app.core.graph_function import GraphFunction\n",
    "from app.core.helper_function import _return_order\n",
    "\n",
    "graph_function = GraphFunction()\n",
    "\n",
    "return_order = _return_order(24)"
   ]
  },
  {
   "cell_type": "code",
   "execution_count": 2,
   "metadata": {},
   "outputs": [
    {
     "data": {
      "text/plain": [
       "'Mã đơn hàng: 24STT: 1.\\nTên sản phẩm: Bóng Đèn Led Thông Minh TP-Link Tapo L510E\\nTên phân loại sản phẩm: \\nMã sản phẩm: 26956171339\\nMã SKU: SH326\\nGiá của sản phẩm: 299000\\nSố lượng: 1\\nGiá cuối cùng: 299000\\n\\nTên khách hàng: Long\\nSố điện thoại khách hàng: 123\\nĐịa chỉ khách hàng: 123 HCM\\nPhương thức thanh toán: COD\\nTổng đơn hàng (chưa tính phí ship): 299000\\nPhí ship: 50000\\nTổng đơn hàng (đã bao gồm phí ship): 349000\\n'"
      ]
     },
     "execution_count": 2,
     "metadata": {},
     "output_type": "execute_result"
    }
   ],
   "source": [
    "return_order"
   ]
  },
  {
   "cell_type": "code",
   "execution_count": 9,
   "metadata": {},
   "outputs": [
    {
     "name": "stdout",
     "output_type": "stream",
     "text": [
      "Dạ vâng, em đã lên đơn hàng thành công cho anh/chị rồi ạ. Đây là thông tin chi tiết đơn hàng của mình:\n",
      "\n",
      "*   **Mã đơn hàng:** 25\n",
      "*   **Sản phẩm:** Bóng Đèn Led Thông Minh TP-Link Tapo L510E\n",
      "*   **Số lượng:** 1\n",
      "*   **Giá:** 299.000 VNĐ\n",
      "*   **Tên khách hàng:** Long\n",
      "*   **Số điện thoại:** 123\n",
      "*   **Địa chỉ:** 123 HCM\n",
      "*   **Phương thức thanh toán:** COD (Thanh toán khi nhận hàng)\n",
      "*   **Tổng đơn hàng (chưa tính phí ship):** 299.000 VNĐ\n",
      "*   **Phí ship:** 50.000 VNĐ\n",
      "*   **Tổng đơn hàng (đã bao gồm phí ship):** 349.000 VNĐ\n",
      "\n",
      "Nhân viên giao hàng sẽ liên hệ với anh/chị trong thời gian sớm nhất để giao hàng ạ. Anh/chị vui lòng giữ liên lạc để nhận hàng giúp em nhé. Cảm ơn anh/chị đã tin tưởng và mua sắm tại cửa hàng của chúng em!\n"
     ]
    }
   ],
   "source": [
    "print(\"Dạ vâng, em đã lên đơn hàng thành công cho anh/chị rồi ạ. Đây là thông tin chi tiết đơn hàng của mình:\\n\\n*   **Mã đơn hàng:** 25\\n*   **Sản phẩm:** Bóng Đèn Led Thông Minh TP-Link Tapo L510E\\n*   **Số lượng:** 1\\n*   **Giá:** 299.000 VNĐ\\n*   **Tên khách hàng:** Long\\n*   **Số điện thoại:** 123\\n*   **Địa chỉ:** 123 HCM\\n*   **Phương thức thanh toán:** COD (Thanh toán khi nhận hàng)\\n*   **Tổng đơn hàng (chưa tính phí ship):** 299.000 VNĐ\\n*   **Phí ship:** 50.000 VNĐ\\n*   **Tổng đơn hàng (đã bao gồm phí ship):** 349.000 VNĐ\\n\\nNhân viên giao hàng sẽ liên hệ với anh/chị trong thời gian sớm nhất để giao hàng ạ. Anh/chị vui lòng giữ liên lạc để nhận hàng giúp em nhé. Cảm ơn anh/chị đã tin tưởng và mua sắm tại cửa hàng của chúng em!\")"
   ]
  }
 ],
 "metadata": {
  "kernelspec": {
   "display_name": ".sellbotenv",
   "language": "python",
   "name": "python3"
  },
  "language_info": {
   "codemirror_mode": {
    "name": "ipython",
    "version": 3
   },
   "file_extension": ".py",
   "mimetype": "text/x-python",
   "name": "python",
   "nbconvert_exporter": "python",
   "pygments_lexer": "ipython3",
   "version": "3.12.5"
  }
 },
 "nbformat": 4,
 "nbformat_minor": 2
}
