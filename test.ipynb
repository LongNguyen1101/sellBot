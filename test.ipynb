{
 "cells": [
  {
   "cell_type": "code",
   "execution_count": 1,
   "metadata": {},
   "outputs": [
    {
     "data": {
      "text/plain": [
       "True"
      ]
     },
     "execution_count": 1,
     "metadata": {},
     "output_type": "execute_result"
    }
   ],
   "source": [
    "from dotenv import load_dotenv\n",
    "import os\n",
    "\n",
    "load_dotenv(override=True)"
   ]
  },
  {
   "cell_type": "code",
   "execution_count": 2,
   "metadata": {},
   "outputs": [],
   "source": [
    "from app.core.graph import build_graph\n",
    "from app.core.state import init_state"
   ]
  },
  {
   "cell_type": "code",
   "execution_count": 3,
   "metadata": {},
   "outputs": [],
   "source": [
    "graph = build_graph()"
   ]
  },
  {
   "cell_type": "code",
   "execution_count": 4,
   "metadata": {},
   "outputs": [],
   "source": [
    "# from IPython.display import display, Image\n",
    "\n",
    "# display(Image(graph.get_graph().draw_mermaid_png()))\n"
   ]
  },
  {
   "cell_type": "code",
   "execution_count": 5,
   "metadata": {},
   "outputs": [
    {
     "name": "stdout",
     "output_type": "stream",
     "text": [
      "((), {'supervisor': {'messages': [HumanMessage(content='Hôm kia mình có đặt đèn led, muốn mua thêm 1 cái nữa được không', additional_kwargs={}, response_metadata={}, id='b91bd57a-c6b5-4ca6-9b12-ea16232a6c25')], 'next_node': 'order_agent'}})\n",
      "----\n",
      "(('order_agent:fc7bf619-3a70-17b7-31fe-797817451030',), {'agent': {'messages': [AIMessage(content='Dạ vâng, để em kiểm tra lại đơn hàng hôm kia của mình và thêm đèn led vào đơn hàng nhé.', additional_kwargs={'function_call': {'name': 'get_order', 'arguments': '{}'}}, response_metadata={'prompt_feedback': {'block_reason': 0, 'safety_ratings': []}, 'finish_reason': 'STOP', 'model_name': 'gemini-2.0-flash', 'safety_ratings': []}, id='run--85f7daec-e0cc-4e4d-a51a-b30425e6709a-0', tool_calls=[{'name': 'get_order', 'args': {}, 'id': '755f469a-1e39-4155-9cdd-8005a5b8a030', 'type': 'tool_call'}], usage_metadata={'input_tokens': 299, 'output_tokens': 29, 'total_tokens': 328, 'input_token_details': {'cache_read': 0}})]}})\n",
      "----\n",
      ">>>> command: SELECT     o.order_id,     oi.product_id,     oi.sku,     o.payment,     o.order_total,     o.shipping_fee,     o.grand_total,     o.receiver_name,     o.receiver_phone_number,     o.receiver_address,     o.created_at FROM     orders o JOIN     order_items oi ON o.order_id = oi.order_id WHERE     o.customer_id = 3     AND o.created_at::date = CURRENT_DATE - INTERVAL '2 day'     AND o.status NOT IN ('delivered', 'cancelled', 'returned', 'refunded')     AND oi.product_id IN (SELECT product_id FROM product_description WHERE product_name ILIKE '%đèn led%');\n",
      ">>>> order_items: {'order_id: 30': [{'product_id': 28006319841, 'sku': 'SH331', 'product_name': 'Camera An Ninh WiFi TP-Link TAPO C225', 'variance_name': '', 'quantity': 2, 'price': 1499000, 'subtotal': 2998000}, {'product_id': 26956171339, 'sku': 'SH326', 'product_name': 'Bóng Đèn Led Thông Minh TP-Link Tapo L510E', 'variance_name': '', 'quantity': 1, 'price': 299000, 'subtotal': 299000}]}\n",
      "(('order_agent:fc7bf619-3a70-17b7-31fe-797817451030',), {'tools': {'order_list': {'order_id: 30': [{'product_id': 28006319841, 'sku': 'SH331', 'product_name': 'Camera An Ninh WiFi TP-Link TAPO C225', 'variance_name': '', 'quantity': 2, 'price': 1499000, 'subtotal': 2998000}, {'product_id': 26956171339, 'sku': 'SH326', 'product_name': 'Bóng Đèn Led Thông Minh TP-Link Tapo L510E', 'variance_name': '', 'quantity': 1, 'price': 299000, 'subtotal': 299000}]}, 'messages': [ToolMessage(content=\"Tìm thấy 1 đơn hàng thoã yêu cầu của khách.\\nĐây là thông tin chi tiết đơn hàng của khách:\\n{'order_id: 30': [{'product_id': 28006319841, 'sku': 'SH331', 'product_name': 'Camera An Ninh WiFi TP-Link TAPO C225', 'variance_name': '', 'quantity': 2, 'price': 1499000, 'subtotal': 2998000}, {'product_id': 26956171339, 'sku': 'SH326', 'product_name': 'Bóng Đèn Led Thông Minh TP-Link Tapo L510E', 'variance_name': '', 'quantity': 1, 'price': 299000, 'subtotal': 299000}]}.\\nNếu số lượng đơn hàng lớn hơn 3 thì tóm tắt chi tiết đơn hàng để khách dễ đọc.\\nSau cùng hỏi khách đây có phải là đơn khách cần không hoặc trong các đơn trên, đơn nào là đơn khách cần.\\nLưu ý trả về cả mã đơn hàng để khách dễ sửa đổi.\\n\", name='get_order', id='f2ccf755-2d39-4464-9183-4107dba04389', tool_call_id='755f469a-1e39-4155-9cdd-8005a5b8a030')], 'next_node': '__end__'}})\n",
      "----\n",
      "(('order_agent:fc7bf619-3a70-17b7-31fe-797817451030',), {'agent': {'messages': [AIMessage(content='Dạ, em tìm thấy đơn hàng số 30 của mình với thông tin chi tiết như sau:\\n\\n*   **Camera An Ninh WiFi TP-Link TAPO C225:** 2 cái, giá 1.499.000 VNĐ/cái, tổng 2.998.000 VNĐ\\n*   **Bóng Đèn Led Thông Minh TP-Link Tapo L510E:** 1 cái, giá 299.000 VNĐ, tổng 299.000 VNĐ\\n\\nĐây có phải là đơn hàng mà mình muốn chỉnh sửa không ạ? Mình muốn mua thêm Bóng Đèn Led Thông Minh TP-Link Tapo L510E phải không ạ?', additional_kwargs={}, response_metadata={'prompt_feedback': {'block_reason': 0, 'safety_ratings': []}, 'finish_reason': 'STOP', 'model_name': 'gemini-2.0-flash', 'safety_ratings': []}, id='run--82c8c52e-55a3-4cfa-b11e-d8bbafdba7bc-0', usage_metadata={'input_tokens': 577, 'output_tokens': 165, 'total_tokens': 742, 'input_token_details': {'cache_read': 0}})]}})\n",
      "----\n",
      "((), {'order_agent': {'messages': [AIMessage(content='Dạ, em tìm thấy đơn hàng số 30 của mình với thông tin chi tiết như sau:\\n\\n*   **Camera An Ninh WiFi TP-Link TAPO C225:** 2 cái, giá 1.499.000 VNĐ/cái, tổng 2.998.000 VNĐ\\n*   **Bóng Đèn Led Thông Minh TP-Link Tapo L510E:** 1 cái, giá 299.000 VNĐ, tổng 299.000 VNĐ\\n\\nĐây có phải là đơn hàng mà mình muốn chỉnh sửa không ạ? Mình muốn mua thêm Bóng Đèn Led Thông Minh TP-Link Tapo L510E phải không ạ?', additional_kwargs={}, response_metadata={}, name='order_agent')], 'next_node': '__end__', 'order_list': {'order_id: 30': [{'product_id': 28006319841, 'sku': 'SH331', 'product_name': 'Camera An Ninh WiFi TP-Link TAPO C225', 'variance_name': '', 'quantity': 2, 'price': 1499000, 'subtotal': 2998000}, {'product_id': 26956171339, 'sku': 'SH326', 'product_name': 'Bóng Đèn Led Thông Minh TP-Link Tapo L510E', 'variance_name': '', 'quantity': 1, 'price': 299000, 'subtotal': 299000}]}}})\n",
      "----\n"
     ]
    }
   ],
   "source": [
    "from langgraph.graph.message import add_messages\n",
    "from langchain_core.messages import HumanMessage\n",
    "from langgraph.types import Command\n",
    "\n",
    "state = init_state()\n",
    "\n",
    "config = {\n",
    "    \"configurable\": \n",
    "    {\n",
    "        \"thread_id\": \"1\"\n",
    "    }\n",
    "}\n",
    "\n",
    "state[\"phone_number\"] = \"123\"\n",
    "state[\"name\"] = \"Long\"\n",
    "state[\"address\"] = \"123 HCM\"\n",
    "state[\"customer_id\"] = 3\n",
    "state[\"user_input\"] = \"Hôm kia mình có đặt đèn led, muốn mua thêm 1 cái nữa được không\"\n",
    "\n",
    "for s in graph.stream(state, subgraphs=True, config=config):\n",
    "    print(s)\n",
    "    print(\"----\")"
   ]
  },
  {
   "cell_type": "code",
   "execution_count": 7,
   "metadata": {},
   "outputs": [
    {
     "name": "stdout",
     "output_type": "stream",
     "text": [
      "((), {'supervisor': {'messages': [HumanMessage(content='Hôm kia mình có đặt đèn led, muốn mua thêm 1 cái nữa được không', additional_kwargs={}, response_metadata={}, id='b91bd57a-c6b5-4ca6-9b12-ea16232a6c25'), AIMessage(content='Dạ, em tìm thấy đơn hàng số 30 của mình với thông tin chi tiết như sau:\\n\\n*   **Camera An Ninh WiFi TP-Link TAPO C225:** 2 cái, giá 1.499.000 VNĐ/cái, tổng 2.998.000 VNĐ\\n*   **Bóng Đèn Led Thông Minh TP-Link Tapo L510E:** 1 cái, giá 299.000 VNĐ, tổng 299.000 VNĐ\\n\\nĐây có phải là đơn hàng mà mình muốn chỉnh sửa không ạ? Mình muốn mua thêm Bóng Đèn Led Thông Minh TP-Link Tapo L510E phải không ạ?', additional_kwargs={}, response_metadata={}, name='order_agent', id='8965d9c7-20b9-4fd6-bbb5-c5d1ce645e7f'), HumanMessage(content='uk đúng r', additional_kwargs={}, response_metadata={}, id='3037f691-4b0a-4a02-9ea0-4eda3cf19b9d'), AIMessage(content='Dạ vậy mình muốn mua thêm 1 Bóng Đèn Led Thông Minh TP-Link Tapo L510E nữa đúng không ạ? Để em cập nhật vào đơn hàng cho mình nha.', additional_kwargs={}, response_metadata={}, name='order_agent', id='5e6e2715-3d02-461c-9068-439cfc650257'), HumanMessage(content='uk đúng r', additional_kwargs={}, response_metadata={}, id='7199665b-e260-4ef3-a83c-a52b3e882ebf')], 'next_node': 'order_agent'}})\n",
      "----\n",
      "(('order_agent:9cc4d3f1-502e-d3a6-e6e6-5056994c2602',), {'agent': {'messages': [AIMessage(content='', additional_kwargs={'function_call': {'name': 'update_product_in_order', 'arguments': '{}'}}, response_metadata={'prompt_feedback': {'block_reason': 0, 'safety_ratings': []}, 'finish_reason': 'STOP', 'model_name': 'gemini-2.0-flash', 'safety_ratings': []}, id='run--111f5510-b53e-4575-9a7b-750edca13c54-0', tool_calls=[{'name': 'update_product_in_order', 'args': {}, 'id': 'e6ae73bb-d9b9-4724-b90f-ae884d57580b', 'type': 'tool_call'}], usage_metadata={'input_tokens': 511, 'output_tokens': 7, 'total_tokens': 518, 'input_token_details': {'cache_read': 0}})]}})>>>> user_input: [{'type': 'ai', 'content': 'Dạ, em tìm thấy đơn hàng số 30 của mình với thông tin chi tiết như sau:\\n\\n*   **Camera An Ninh WiFi TP-Link TAPO C225:** 2 cái, giá 1.499.000 VNĐ/cái, tổng 2.998.000 VNĐ\\n*   **Bóng Đèn Led Thông Minh TP-Link Tapo L510E:** 1 cái, giá 299.000 VNĐ, tổng 299.000 VNĐ\\n\\nĐây có phải là đơn hàng mà mình muốn chỉnh sửa không ạ? Mình muốn mua thêm Bóng Đèn Led Thông Minh TP-Link Tapo L510E phải không ạ?'}, {'type': 'human', 'content': 'uk đúng r'}, {'type': 'ai', 'content': 'Dạ vậy mình muốn mua thêm 1 Bóng Đèn Led Thông Minh TP-Link Tapo L510E nữa đúng không ạ? Để em cập nhật vào đơn hàng cho mình nha.'}, {'type': 'human', 'content': 'uk đúng r'}, {'type': 'ai', 'content': ''}]\n",
      "\n",
      "----\n",
      ">>>> command and order_id: UPDATE order_items SET quantity = quantity + 1 WHERE order_id = 30 AND product_id = 26956171339 AND sku = 'SH326';, 30\n",
      ">>>> return order: Mã đơn hàng: 30\n",
      "\n",
      "STT: 1.\n",
      "Tên sản phẩm: Bóng Đèn Led Thông Minh TP-Link Tapo L510E\n",
      "Tên phân loại sản phẩm: \n",
      "Mã sản phẩm: 26956171339\n",
      "Mã SKU: SH326\n",
      "Giá của sản phẩm: 299000\n",
      "Số lượng: 2\n",
      "Giá cuối cùng: 598000\n",
      "\n",
      "STT: 2.\n",
      "Tên sản phẩm: Camera An Ninh WiFi TP-Link TAPO C225\n",
      "Tên phân loại sản phẩm: \n",
      "Mã sản phẩm: 28006319841\n",
      "Mã SKU: SH331\n",
      "Giá của sản phẩm: 1499000\n",
      "Số lượng: 2\n",
      "Giá cuối cùng: 2998000\n",
      "\n",
      "Tên khách hàng: Long\n",
      "Số điện thoại khách hàng: 123\n",
      "Địa chỉ khách hàng: 123 HCM\n",
      "Phương thức thanh toán: COD\n",
      "Tổng đơn hàng (chưa tính phí ship): 3596000\n",
      "Phí ship: 25000\n",
      "Tổng đơn hàng (đã bao gồm phí ship): 3621000\n",
      "\n",
      "(('order_agent:9cc4d3f1-502e-d3a6-e6e6-5056994c2602',), {'tools': {'messages': [ToolMessage(content='Cập nhật đơn hàng thành công.\\nTrả lại đơn hàng sau khi đã cập nhật cho khách:\\nMã đơn hàng: 30\\n\\nSTT: 1.\\nTên sản phẩm: Bóng Đèn Led Thông Minh TP-Link Tapo L510E\\nTên phân loại sản phẩm: \\nMã sản phẩm: 26956171339\\nMã SKU: SH326\\nGiá của sản phẩm: 299000\\nSố lượng: 2\\nGiá cuối cùng: 598000\\n\\nSTT: 2.\\nTên sản phẩm: Camera An Ninh WiFi TP-Link TAPO C225\\nTên phân loại sản phẩm: \\nMã sản phẩm: 28006319841\\nMã SKU: SH331\\nGiá của sản phẩm: 1499000\\nSố lượng: 2\\nGiá cuối cùng: 2998000\\n\\nTên khách hàng: Long\\nSố điện thoại khách hàng: 123\\nĐịa chỉ khách hàng: 123 HCM\\nPhương thức thanh toán: COD\\nTổng đơn hàng (chưa tính phí ship): 3596000\\nPhí ship: 25000\\nTổng đơn hàng (đã bao gồm phí ship): 3621000\\n', name='update_product_in_order', id='4a5f1262-36ca-44bd-96ed-73c1816ea5df', tool_call_id='e6ae73bb-d9b9-4724-b90f-ae884d57580b')], 'next_node': '__end__'}})\n",
      "----\n",
      "(('order_agent:9cc4d3f1-502e-d3a6-e6e6-5056994c2602',), {'agent': {'messages': [AIMessage(content='Dạ, em đã cập nhật đơn hàng của mình rồi ạ. Tổng đơn hàng của mình là 3.621.000 VNĐ, bao gồm phí ship ạ. Mình có muốn thay đổi gì nữa không ạ?', additional_kwargs={}, response_metadata={'prompt_feedback': {'block_reason': 0, 'safety_ratings': []}, 'finish_reason': 'STOP', 'model_name': 'gemini-2.0-flash', 'safety_ratings': []}, id='run--f7c69922-582f-44dd-8b21-416a0d97614d-0', usage_metadata={'input_tokens': 823, 'output_tokens': 50, 'total_tokens': 873, 'input_token_details': {'cache_read': 0}})]}})\n",
      "----\n",
      "((), {'order_agent': {'messages': [AIMessage(content='Dạ, em đã cập nhật đơn hàng của mình rồi ạ. Tổng đơn hàng của mình là 3.621.000 VNĐ, bao gồm phí ship ạ. Mình có muốn thay đổi gì nữa không ạ?', additional_kwargs={}, response_metadata={}, name='order_agent')], 'next_node': '__end__', 'order_list': {'order_id: 30': [{'product_id': 28006319841, 'sku': 'SH331', 'product_name': 'Camera An Ninh WiFi TP-Link TAPO C225', 'variance_name': '', 'quantity': 2, 'price': 1499000, 'subtotal': 2998000}, {'product_id': 26956171339, 'sku': 'SH326', 'product_name': 'Bóng Đèn Led Thông Minh TP-Link Tapo L510E', 'variance_name': '', 'quantity': 1, 'price': 299000, 'subtotal': 299000}]}}})\n",
      "----\n"
     ]
    }
   ],
   "source": [
    "state[\"user_input\"] = \"uk đúng r\"\n",
    "for s in graph.stream(state, subgraphs=True, config=config):\n",
    "    print(s)\n",
    "    print(\"----\")"
   ]
  },
  {
   "cell_type": "code",
   "execution_count": null,
   "metadata": {},
   "outputs": [],
   "source": [
    "state[\"user_input\"] = \"uk thêm vào đi\"\n",
    "for s in graph.stream(state, subgraphs=True, config=config):\n",
    "    print(s)\n",
    "    print(\"----\")"
   ]
  },
  {
   "cell_type": "code",
   "execution_count": null,
   "metadata": {},
   "outputs": [],
   "source": [
    "state[\"user_input\"] = \"cho thêm 1 cái đèn led nữa\"\n",
    "for s in graph.stream(state, subgraphs=True, config=config):\n",
    "    print(s)\n",
    "    print(\"----\")"
   ]
  },
  {
   "cell_type": "code",
   "execution_count": null,
   "metadata": {},
   "outputs": [],
   "source": [
    "state[\"user_input\"] = \"có Camera An Ninh WiFi TP-Link TAPO C225 ko\"\n",
    "for s in graph.stream(state, subgraphs=True, config=config):\n",
    "    print(s)\n",
    "    print(\"----\")"
   ]
  },
  {
   "cell_type": "code",
   "execution_count": null,
   "metadata": {},
   "outputs": [],
   "source": [
    "state[\"user_input\"] = \"cho cái đó vào giỏ đi\"\n",
    "for s in graph.stream(state, subgraphs=True, config=config):\n",
    "    print(s)\n",
    "    print(\"----\")"
   ]
  },
  {
   "cell_type": "code",
   "execution_count": 6,
   "metadata": {},
   "outputs": [
    {
     "data": {
      "text/plain": [
       "{'messages': [HumanMessage(content='Hôm qua mình có đặt 2 cái đèn led, muốn mua thêm 1 cái nữa được không', additional_kwargs={}, response_metadata={}, id='9442e2e0-8e25-4985-abd4-df5f1b0e4af3'),\n",
       "  AIMessage(content='Dạ, em tìm thấy một đơn hàng với mã đơn là 30 ạ. Đơn hàng này bao gồm 2 bóng đèn Led thông minh TP-Link Tapo L510E và 2 camera an ninh WiFi TP-Link TAPO C225. Tổng tiền của đơn hàng là 3.596.000 VNĐ ạ.\\n\\nĐây có phải là đơn hàng mà anh/chị muốn chỉnh sửa không ạ? Nếu đúng, em sẽ giúp anh/chị thêm một bóng đèn Led vào đơn hàng này ạ.', additional_kwargs={}, response_metadata={}, name='order_agent', id='337fc9d7-84c9-427d-9997-92e0950f596e')],\n",
       " 'user_input': 'Hôm qua mình có đặt 2 cái đèn led, muốn mua thêm 1 cái nữa được không',\n",
       " 'next_node': '__end__',\n",
       " 'customer_id': 3,\n",
       " 'name': 'Long',\n",
       " 'phone_number': '123',\n",
       " 'address': '123 HCM',\n",
       " 'is_login': False,\n",
       " 'cart': [],\n",
       " 'seen_products': [],\n",
       " 'product_chosen': None,\n",
       " 'order_list': {'order_id: 30': [{'product_id': 26956171339,\n",
       "    'sku': 'SH326',\n",
       "    'product_name': 'Bóng Đèn Led Thông Minh TP-Link Tapo L510E',\n",
       "    'variance_name': '',\n",
       "    'quantity': 2,\n",
       "    'price': 299000,\n",
       "    'subtotal': 598000},\n",
       "   {'product_id': 28006319841,\n",
       "    'sku': 'SH331',\n",
       "    'product_name': 'Camera An Ninh WiFi TP-Link TAPO C225',\n",
       "    'variance_name': '',\n",
       "    'quantity': 2,\n",
       "    'price': 1499000,\n",
       "    'subtotal': 2998000}]},\n",
       " 'return_json': None}"
      ]
     },
     "execution_count": 6,
     "metadata": {},
     "output_type": "execute_result"
    }
   ],
   "source": [
    "graph.get_state(config).values"
   ]
  },
  {
   "cell_type": "markdown",
   "metadata": {},
   "source": [
    "## Test"
   ]
  },
  {
   "cell_type": "code",
   "execution_count": 1,
   "metadata": {},
   "outputs": [],
   "source": [
    "from app.core.graph import build_graph\n",
    "from app.core.state import init_state\n",
    "from langgraph.graph.message import add_messages\n",
    "from langchain_core.messages import HumanMessage\n",
    "from langgraph.types import Command\n",
    "\n",
    "graph = build_graph()"
   ]
  },
  {
   "cell_type": "code",
   "execution_count": 3,
   "metadata": {},
   "outputs": [],
   "source": [
    "# from IPython.display import display, Image\n",
    "\n",
    "# display(Image(graph.get_graph().draw_mermaid_png()))\n"
   ]
  },
  {
   "cell_type": "code",
   "execution_count": null,
   "metadata": {},
   "outputs": [],
   "source": [
    "state = init_state()\n",
    "\n",
    "config = {\n",
    "    \"configurable\": \n",
    "    {\n",
    "        \"thread_id\": \"1\"\n",
    "    }\n",
    "}\n",
    "\n",
    "state[\"user_input\"] = \"có đèn led thông minh không\"\n",
    "\n",
    "for event in graph.stream(state, config):\n",
    "    for node, value in event.items():\n",
    "        if \"messages\" in value:\n",
    "            print(value[\"messages\"][-1].pretty_print())\n",
    "        else:\n",
    "            print(value)"
   ]
  },
  {
   "cell_type": "code",
   "execution_count": null,
   "metadata": {},
   "outputs": [],
   "source": [
    "state[\"user_input\"] = \"sđt là 123\"\n",
    "\n",
    "for event in graph.stream(state, config):\n",
    "    for node, value in event.items():\n",
    "        if \"messages\" in value:\n",
    "            print(value[\"messages\"][-1].pretty_print())\n",
    "        else:\n",
    "            print(value)"
   ]
  },
  {
   "cell_type": "code",
   "execution_count": null,
   "metadata": {},
   "outputs": [],
   "source": [
    "state[\"user_input\"] = \"uk thêm luôn đi\"\n",
    "\n",
    "for event in graph.stream(state, config):\n",
    "    for node, value in event.items():\n",
    "        if \"messages\" in value:\n",
    "            print(value[\"messages\"][-1].pretty_print())\n",
    "        else:\n",
    "            print(value)"
   ]
  },
  {
   "cell_type": "code",
   "execution_count": null,
   "metadata": {},
   "outputs": [],
   "source": [
    "state[\"user_input\"] = \"lên đơn đi\"\n",
    "\n",
    "for event in graph.stream(state, config):\n",
    "    for node, value in event.items():\n",
    "        if \"messages\" in value:\n",
    "            print(value[\"messages\"][-1].pretty_print())\n",
    "        else:\n",
    "            print(value)"
   ]
  },
  {
   "cell_type": "markdown",
   "metadata": {},
   "source": [
    "----"
   ]
  },
  {
   "cell_type": "code",
   "execution_count": 2,
   "metadata": {},
   "outputs": [],
   "source": [
    "from app.core.order_agent.order_prompts import find_order_prompt\n",
    "\n",
    "\n",
    "prompt = find_order_prompt()"
   ]
  },
  {
   "cell_type": "code",
   "execution_count": 3,
   "metadata": {},
   "outputs": [],
   "source": [
    "from app.core.model import init_model\n",
    "from datetime import date\n",
    "\n",
    "user_input = \"mình muốn chỉnh sửa đơn hàng\"\n",
    "\n",
    "llm = init_model()\n",
    "msg = [\n",
    "    {\"role\": \"system\", \"content\": prompt},\n",
    "    {\"role\": \"human\", \"content\": (\n",
    "        f\"Đây là yêu cầu của khách: {user_input}\\n\"\n",
    "        f\"Mã khách hàng (customer_id): 3\"\n",
    "    )},\n",
    "]\n",
    "\n",
    "result = llm.invoke(msg)"
   ]
  },
  {
   "cell_type": "code",
   "execution_count": null,
   "metadata": {},
   "outputs": [],
   "source": [
    "print(result.content.replace(\"```sql\", \"\").replace(\"```\", \"\"))"
   ]
  },
  {
   "cell_type": "code",
   "execution_count": 1,
   "metadata": {},
   "outputs": [],
   "source": [
    "from app.core.order_agent.order_prompts import update_order_prompt\n",
    "\n",
    "update_prompt = update_order_prompt()"
   ]
  },
  {
   "cell_type": "code",
   "execution_count": 2,
   "metadata": {},
   "outputs": [],
   "source": [
    "order_items = {'order_id: 30': [{'product_id': 26956171339,\n",
    "    'sku': 'SH326',\n",
    "    'product_name': 'Bóng Đèn Led Thông Minh TP-Link Tapo L510E',\n",
    "    'variance_name': '',\n",
    "    'quantity': 2,\n",
    "    'price': 299000,\n",
    "    'subtotal': 598000},\n",
    "   {'product_id': 28006319841,\n",
    "    'sku': 'SH331',\n",
    "    'product_name': 'Camera An Ninh WiFi TP-Link TAPO C225',\n",
    "    'variance_name': '',\n",
    "    'quantity': 2,\n",
    "    'price': 1499000,\n",
    "    'subtotal': 2998000}]}"
   ]
  },
  {
   "cell_type": "code",
   "execution_count": 3,
   "metadata": {},
   "outputs": [],
   "source": [
    "from app.core.model import init_model\n",
    "from datetime import date\n",
    "\n",
    "user_input = \"hôm qua mình có đặt 2 cái đèn led, mình muốn mua thêm 1 cái nữa được không\"\n",
    "chat_histories = [\n",
    "    {\n",
    "        \"type\": \"human\",\n",
    "        \"content\": \"hôm qua mình có đặt 2 cái đèn led, mình muốn mua thêm 1 cái nữa được không\"\n",
    "    },\n",
    "    {\n",
    "        \"type\": \"ai\",\n",
    "        \"content\": \"Đây có phải là đơn hàng bạn muốn chỉnh sửa khôn: đơn 30 ....\"\n",
    "    },\n",
    "    {\n",
    "        \"type\": \"human\",\n",
    "        \"content\": \"đúng r\"\n",
    "    }\n",
    "]\n",
    "\n",
    "llm = init_model()\n",
    "msg = [\n",
    "    {\"role\": \"system\", \"content\": update_prompt},\n",
    "    {\"role\": \"human\", \"content\": (\n",
    "        f\"Đây là yêu cầu của khách: {user_input}\\n\"\n",
    "        f\"Đây là dictionary đơn hàng liên quan đến yêu cầu của khách: {order_items}\"\n",
    "    )},\n",
    "]\n",
    "\n",
    "result = llm.invoke(msg)"
   ]
  },
  {
   "cell_type": "code",
   "execution_count": 6,
   "metadata": {},
   "outputs": [
    {
     "name": "stdout",
     "output_type": "stream",
     "text": [
      "```json\n",
      "{\n",
      "    \"command\": \"UPDATE order_items SET quantity = quantity + 1 WHERE order_id = 30 AND product_id = 26956171339 AND sku = 'SH326';\",\n",
      "    \"order_id\": 30\n",
      "}\n",
      "```\n"
     ]
    }
   ],
   "source": [
    "print(result.content)"
   ]
  }
 ],
 "metadata": {
  "kernelspec": {
   "display_name": ".sellbotenv",
   "language": "python",
   "name": "python3"
  },
  "language_info": {
   "codemirror_mode": {
    "name": "ipython",
    "version": 3
   },
   "file_extension": ".py",
   "mimetype": "text/x-python",
   "name": "python",
   "nbconvert_exporter": "python",
   "pygments_lexer": "ipython3",
   "version": "3.12.5"
  }
 },
 "nbformat": 4,
 "nbformat_minor": 2
}
