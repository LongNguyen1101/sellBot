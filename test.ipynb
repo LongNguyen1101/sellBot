{
 "cells": [
  {
   "cell_type": "code",
   "execution_count": null,
   "metadata": {},
   "outputs": [],
   "source": [
    "from dotenv import load_dotenv\n",
    "import os\n",
    "\n",
    "load_dotenv(override=True)"
   ]
  },
  {
   "cell_type": "code",
   "execution_count": 2,
   "metadata": {},
   "outputs": [],
   "source": [
    "from app.core.graph import build_graph\n",
    "from app.core.state import init_state"
   ]
  },
  {
   "cell_type": "code",
   "execution_count": 3,
   "metadata": {},
   "outputs": [],
   "source": [
    "graph = build_graph()"
   ]
  },
  {
   "cell_type": "code",
   "execution_count": 4,
   "metadata": {},
   "outputs": [],
   "source": [
    "# from IPython.display import display, Image\n",
    "\n",
    "# display(Image(graph.get_graph().draw_mermaid_png()))\n"
   ]
  },
  {
   "cell_type": "code",
   "execution_count": null,
   "metadata": {},
   "outputs": [],
   "source": [
    "from langgraph.graph.message import add_messages\n",
    "from langchain_core.messages import HumanMessage\n",
    "from langgraph.types import Command\n",
    "\n",
    "state = init_state()\n",
    "\n",
    "config = {\n",
    "    \"configurable\": \n",
    "    {\n",
    "        \"thread_id\": \"1\"\n",
    "    }\n",
    "}\n",
    "\n",
    "state[\"user_input\"] = \"có đèn led thông minh ko\"\n",
    "\n",
    "for s in graph.stream(state, subgraphs=True, config=config):\n",
    "    print(s)\n",
    "    print(\"----\")"
   ]
  },
  {
   "cell_type": "code",
   "execution_count": null,
   "metadata": {},
   "outputs": [],
   "source": [
    "state[\"user_input\"] = \"sđt là 123\"\n",
    "for s in graph.stream(state, subgraphs=True, config=config):\n",
    "    print(s)\n",
    "    print(\"----\")"
   ]
  },
  {
   "cell_type": "code",
   "execution_count": null,
   "metadata": {},
   "outputs": [],
   "source": [
    "state[\"user_input\"] = \"uk thêm vào đi\"\n",
    "for s in graph.stream(state, subgraphs=True, config=config):\n",
    "    print(s)\n",
    "    print(\"----\")"
   ]
  },
  {
   "cell_type": "code",
   "execution_count": null,
   "metadata": {},
   "outputs": [],
   "source": [
    "state[\"user_input\"] = \"lên đơn đi em\"\n",
    "for s in graph.stream(state, subgraphs=True, config=config):\n",
    "    print(s)\n",
    "    print(\"----\")"
   ]
  },
  {
   "cell_type": "code",
   "execution_count": null,
   "metadata": {},
   "outputs": [],
   "source": [
    "state[\"user_input\"] = \"có Camera An Ninh WiFi TP-Link TAPO C225 ko\"\n",
    "for s in graph.stream(state, subgraphs=True, config=config):\n",
    "    print(s)\n",
    "    print(\"----\")"
   ]
  },
  {
   "cell_type": "code",
   "execution_count": null,
   "metadata": {},
   "outputs": [],
   "source": [
    "state[\"user_input\"] = \"cho mua cái đó luôn\"\n",
    "for s in graph.stream(state, subgraphs=True, config=config):\n",
    "    print(s)\n",
    "    print(\"----\")"
   ]
  },
  {
   "cell_type": "code",
   "execution_count": null,
   "metadata": {},
   "outputs": [],
   "source": [
    "graph.get_state(config).values"
   ]
  },
  {
   "cell_type": "markdown",
   "metadata": {},
   "source": [
    "## Test"
   ]
  },
  {
   "cell_type": "code",
   "execution_count": 1,
   "metadata": {},
   "outputs": [],
   "source": [
    "from app.core.graph import build_graph\n",
    "from app.core.state import init_state\n",
    "from langgraph.graph.message import add_messages\n",
    "from langchain_core.messages import HumanMessage\n",
    "from langgraph.types import Command\n",
    "\n",
    "graph = build_graph()"
   ]
  },
  {
   "cell_type": "code",
   "execution_count": 3,
   "metadata": {},
   "outputs": [],
   "source": [
    "# from IPython.display import display, Image\n",
    "\n",
    "# display(Image(graph.get_graph().draw_mermaid_png()))\n"
   ]
  },
  {
   "cell_type": "code",
   "execution_count": 2,
   "metadata": {},
   "outputs": [
    {
     "name": "stdout",
     "output_type": "stream",
     "text": [
      "================================\u001b[1m Human Message \u001b[0m=================================\n",
      "\n",
      "có đèn led thông minh không\n",
      "None\n",
      "==================================\u001b[1m Ai Message \u001b[0m==================================\n",
      "Name: product_agent\n",
      "\n",
      "Chào quý khách, bên cửa hàng có sản phẩm \"Bóng Đèn Led Thông Minh TP-Link Tapo L510E\" với giá 299.000 VNĐ. Đây có phải là sản phẩm quý khách đang tìm không ạ? Nếu đúng, xin quý khách vui lòng cho xin số điện thoại để bên em tiến hành lên đơn và hỗ trợ tư vấn thêm về sản phẩm ạ.\n",
      "None\n"
     ]
    }
   ],
   "source": [
    "state = init_state()\n",
    "\n",
    "config = {\n",
    "    \"configurable\": \n",
    "    {\n",
    "        \"thread_id\": \"1\"\n",
    "    }\n",
    "}\n",
    "\n",
    "state[\"user_input\"] = \"có đèn led thông minh không\"\n",
    "\n",
    "for event in graph.stream(state, config):\n",
    "    for node, value in event.items():\n",
    "        if \"messages\" in value:\n",
    "            print(value[\"messages\"][-1].pretty_print())\n",
    "        else:\n",
    "            print(value)"
   ]
  },
  {
   "cell_type": "code",
   "execution_count": 3,
   "metadata": {},
   "outputs": [
    {
     "name": "stdout",
     "output_type": "stream",
     "text": [
      "================================\u001b[1m Human Message \u001b[0m=================================\n",
      "\n",
      "sđt là 123\n",
      "None\n",
      "==================================\u001b[1m Ai Message \u001b[0m==================================\n",
      "Name: customer_agent\n",
      "\n",
      "Dạ, số điện thoại này đã có trong hệ thống của cửa hàng rồi ạ. Quý khách có muốn thêm sản phẩm đèn LED thông minh vào giỏ hàng của mình không ạ?\n",
      "None\n"
     ]
    }
   ],
   "source": [
    "state[\"user_input\"] = \"sđt là 123\"\n",
    "\n",
    "for event in graph.stream(state, config):\n",
    "    for node, value in event.items():\n",
    "        if \"messages\" in value:\n",
    "            print(value[\"messages\"][-1].pretty_print())\n",
    "        else:\n",
    "            print(value)"
   ]
  },
  {
   "cell_type": "code",
   "execution_count": 4,
   "metadata": {},
   "outputs": [
    {
     "name": "stdout",
     "output_type": "stream",
     "text": [
      "================================\u001b[1m Human Message \u001b[0m=================================\n",
      "\n",
      "uk thêm luôn đi\n",
      "None\n",
      ">>>> old cart: []\n",
      ">>>> new cart: [{'product_id': 26956171339, 'sku': 'SH326', 'product_name': 'Bóng Đèn Led Thông Minh TP-Link Tapo L510E', 'variance_description': '', 'quantity': 1, 'price': 299000, 'subtotal': 299000}]\n",
      "==================================\u001b[1m Ai Message \u001b[0m==================================\n",
      "Name: cart_agent\n",
      "\n",
      "Em đã thêm sản phẩm vào giỏ hàng thành công rồi ạ. Giỏ hàng của mình đang có một \"Bóng Đèn Led Thông Minh TP-Link Tapo L510E\" với giá 299.000 VNĐ. Quý khách có muốn mua thêm sản phẩm nào nữa không ạ hay em lên đơn hàng này luôn ạ?\n",
      "None\n"
     ]
    }
   ],
   "source": [
    "state[\"user_input\"] = \"uk thêm luôn đi\"\n",
    "\n",
    "for event in graph.stream(state, config):\n",
    "    for node, value in event.items():\n",
    "        if \"messages\" in value:\n",
    "            print(value[\"messages\"][-1].pretty_print())\n",
    "        else:\n",
    "            print(value)"
   ]
  },
  {
   "cell_type": "code",
   "execution_count": 5,
   "metadata": {},
   "outputs": [
    {
     "name": "stdout",
     "output_type": "stream",
     "text": [
      "================================\u001b[1m Human Message \u001b[0m=================================\n",
      "\n",
      "lên đơn đi\n",
      "None\n",
      ">>>> content: Mã đơn hàng: 29\n",
      "==================================\u001b[1m Ai Message \u001b[0m==================================\n",
      "Name: order_agent\n",
      "\n",
      "Dạ vâng, em đã lên đơn hàng thành công cho mình rồi ạ. Mã đơn hàng của mình là 29, tổng đơn hàng (đã bao gồm phí ship) là 349.000 VNĐ. Bên em sẽ sớm liên hệ để xác nhận và giao hàng đến địa chỉ 123 HCM trong thời gian sớm nhất ạ. Cảm ơn quý khách đã tin tưởng và ủng hộ cửa hàng ạ!\n",
      "None\n"
     ]
    }
   ],
   "source": [
    "state[\"user_input\"] = \"lên đơn đi\"\n",
    "\n",
    "for event in graph.stream(state, config):\n",
    "    for node, value in event.items():\n",
    "        if \"messages\" in value:\n",
    "            print(value[\"messages\"][-1].pretty_print())\n",
    "        else:\n",
    "            print(value)"
   ]
  }
 ],
 "metadata": {
  "kernelspec": {
   "display_name": ".sellbotenv",
   "language": "python",
   "name": "python3"
  },
  "language_info": {
   "codemirror_mode": {
    "name": "ipython",
    "version": 3
   },
   "file_extension": ".py",
   "mimetype": "text/x-python",
   "name": "python",
   "nbconvert_exporter": "python",
   "pygments_lexer": "ipython3",
   "version": "3.12.5"
  }
 },
 "nbformat": 4,
 "nbformat_minor": 2
}
