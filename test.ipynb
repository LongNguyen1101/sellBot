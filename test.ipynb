{
 "cells": [
  {
   "cell_type": "code",
   "execution_count": 1,
   "metadata": {},
   "outputs": [
    {
     "data": {
      "text/plain": [
       "True"
      ]
     },
     "execution_count": 1,
     "metadata": {},
     "output_type": "execute_result"
    }
   ],
   "source": [
    "from dotenv import load_dotenv\n",
    "import os\n",
    "\n",
    "load_dotenv(override=True)"
   ]
  },
  {
   "cell_type": "code",
   "execution_count": 2,
   "metadata": {},
   "outputs": [],
   "source": [
    "from app.core.graph import build_graph\n",
    "from app.core.state import init_state"
   ]
  },
  {
   "cell_type": "code",
   "execution_count": 3,
   "metadata": {},
   "outputs": [],
   "source": [
    "graph = build_graph()"
   ]
  },
  {
   "cell_type": "code",
   "execution_count": 4,
   "metadata": {},
   "outputs": [
    {
     "name": "stdout",
     "output_type": "stream",
     "text": [
      "================================\u001b[1m Human Message \u001b[0m=================================\n",
      "Name: user_input_node\n",
      "\n",
      "có camera an ninh ko\n",
      "None\n",
      "==================================\u001b[1m Ai Message \u001b[0m==================================\n",
      "Tool Calls:\n",
      "  get_products (call_gvLlHe2S4CFw7UKTqhXtwmLx)\n",
      " Call ID: call_gvLlHe2S4CFw7UKTqhXtwmLx\n",
      "  Args:\n",
      "    keyword: camera an ninh\n",
      "None\n",
      "('>>>> Tìm thấy thông tin của khách:\\n', 'Tên: Long\\nSố điện thoại: 123\\nĐịa chỉ: 123 hcm\\nID khách: 17.\\n')\n",
      "=================================\u001b[1m Tool Message \u001b[0m=================================\n",
      "Name: get_products\n",
      "\n",
      "Thông báo tìm thấy nhiều sản phẩm phù hợp với khách, tổng cộng có 2 sản phẩm tìm được:\n",
      "[{'product_id': 24434003953, 'sku': 'SH335', 'product_name': 'Camera An Ninh Ngoài Trời IMOU Cruiser Z 5MP 12X', 'variance_description': '', 'brief_description': 'Phát Hiện Người Chống Bụi Chống Nước IP66 Màu Ban Đêm Tích Hợp Còi', 'price': 2790000}, {'product_id': 28006319841, 'sku': 'SH331', 'product_name': 'Camera An Ninh WiFi TP-Link TAPO C225', 'variance_description': '', 'brief_description': 'Camera AI 2K 4MP Theo Dõi Chuyển Động Cảm Biến Ánh Sáng Đàm Thoại 2 Chiều', 'price': 1499000}].\n",
      "Hỏi khách muốn mua sản phẩm nào.\n",
      "Đã tìm thấy thông tin khách hàng.\n",
      "Nếu chỉ có một sản phẩm trả về thì hãy hỏi khách muốn lên đơn luôn không.\n",
      "Nếu có nhiều sản phẩm trả về thì hỏi khách chọn sản phẩm nào.\n",
      "\n",
      "None\n",
      "==================================\u001b[1m Ai Message \u001b[0m==================================\n",
      "\n",
      "Dạ, bên em hiện có 2 mẫu camera an ninh mà khách có thể tham khảo ạ:\n",
      "\n",
      "1. Camera An Ninh Ngoài Trời IMOU Cruiser Z 5MP 12X – Giá 2.790.000đ. Tính năng nổi bật: phát hiện người, chống bụi nước IP66, quan sát ban đêm có màu, tích hợp còi báo động.\n",
      "2. Camera An Ninh WiFi TP-Link TAPO C225 – Giá 1.499.000đ. Tính năng nổi bật: Camera AI 2K 4MP, theo dõi chuyển động, cảm biến ánh sáng, đàm thoại 2 chiều.\n",
      "\n",
      "Khách muốn xem chi tiết sản phẩm nào hoặc cần tư vấn thêm để lựa chọn không ạ?\n",
      "None\n",
      "==================================\u001b[1m Ai Message \u001b[0m==================================\n",
      "Name: product_agent\n",
      "\n",
      "Dạ, bên em hiện có 2 mẫu camera an ninh mà khách có thể tham khảo ạ:\n",
      "\n",
      "1. Camera An Ninh Ngoài Trời IMOU Cruiser Z 5MP 12X – Giá 2.790.000đ. Tính năng nổi bật: phát hiện người, chống bụi nước IP66, quan sát ban đêm có màu, tích hợp còi báo động.\n",
      "2. Camera An Ninh WiFi TP-Link TAPO C225 – Giá 1.499.000đ. Tính năng nổi bật: Camera AI 2K 4MP, theo dõi chuyển động, cảm biến ánh sáng, đàm thoại 2 chiều.\n",
      "\n",
      "Khách muốn xem chi tiết sản phẩm nào hoặc cần tư vấn thêm để lựa chọn không ạ?\n",
      "None\n"
     ]
    }
   ],
   "source": [
    "from langgraph.graph.message import add_messages\n",
    "from langchain_core.messages import HumanMessage, AIMessage\n",
    "from langgraph.types import Command\n",
    "\n",
    "state = init_state()\n",
    "\n",
    "config = {\n",
    "    \"configurable\": \n",
    "    {\n",
    "        \"thread_id\": \"1\"\n",
    "    }\n",
    "}\n",
    "\n",
    "state[\"user_input\"] = \"có camera an ninh ko\"\n",
    "state[\"chat_id\"] = \"1199687758\"\n",
    "\n",
    "for data in graph.stream(state, subgraphs=True, config=config):\n",
    "    for key, value in data[1].items():\n",
    "        if \"messages\" in value and value[\"messages\"]:\n",
    "            print(value[\"messages\"][-1].pretty_print())"
   ]
  },
  {
   "cell_type": "code",
   "execution_count": 14,
   "metadata": {},
   "outputs": [
    {
     "data": {
      "text/plain": [
       "{'messages': [HumanMessage(content='có camera an ninh ko', additional_kwargs={}, response_metadata={}, name='user_input_node', id='0c6e73b1-251a-44ca-b50c-1ca398e19640'),\n",
       "  AIMessage(content='Dạ, bên em hiện có 2 mẫu camera an ninh mà khách có thể tham khảo ạ:\\n\\n1. Camera An Ninh Ngoài Trời IMOU Cruiser Z 5MP 12X – Giá 2.790.000đ. Tính năng nổi bật: phát hiện người, chống bụi nước IP66, quan sát ban đêm có màu, tích hợp còi báo động.\\n2. Camera An Ninh WiFi TP-Link TAPO C225 – Giá 1.499.000đ. Tính năng nổi bật: Camera AI 2K 4MP, theo dõi chuyển động, cảm biến ánh sáng, đàm thoại 2 chiều.\\n\\nKhách muốn xem chi tiết sản phẩm nào hoặc cần tư vấn thêm để lựa chọn không ạ?', additional_kwargs={}, response_metadata={}, name='product_agent', id='e6de95af-a092-4fde-8eea-6ae0864740f7')],\n",
       " 'user_input': 'có camera an ninh ko',\n",
       " 'next_node': 'product_agent',\n",
       " 'customer_id': 17,\n",
       " 'name': 'Long',\n",
       " 'phone_number': '123',\n",
       " 'address': '123 hcm',\n",
       " 'chat_id': '1199687758',\n",
       " 'cart': {},\n",
       " 'seen_products': [{'product_id': 24434003953,\n",
       "   'sku': 'SH335',\n",
       "   'product_name': 'Camera An Ninh Ngoài Trời IMOU Cruiser Z 5MP 12X',\n",
       "   'variance_description': '',\n",
       "   'brief_description': 'Phát Hiện Người Chống Bụi Chống Nước IP66 Màu Ban Đêm Tích Hợp Còi',\n",
       "   'price': 2790000},\n",
       "  {'product_id': 28006319841,\n",
       "   'sku': 'SH331',\n",
       "   'product_name': 'Camera An Ninh WiFi TP-Link TAPO C225',\n",
       "   'variance_description': '',\n",
       "   'brief_description': 'Camera AI 2K 4MP Theo Dõi Chuyển Động Cảm Biến Ánh Sáng Đàm Thoại 2 Chiều',\n",
       "   'price': 1499000}],\n",
       " 'product_chosen': None,\n",
       " 'orders': []}"
      ]
     },
     "execution_count": 14,
     "metadata": {},
     "output_type": "execute_result"
    }
   ],
   "source": [
    "state = graph.get_state(config).values\n",
    "state"
   ]
  },
  {
   "cell_type": "code",
   "execution_count": 17,
   "metadata": {},
   "outputs": [
    {
     "data": {
      "text/plain": [
       "{'user_input': 'có camera an ninh ko',\n",
       " 'next_node': 'product_agent',\n",
       " 'customer_id': 17,\n",
       " 'name': 'Long',\n",
       " 'phone_number': '123',\n",
       " 'address': '123 hcm',\n",
       " 'chat_id': '1199687758',\n",
       " 'cart': {},\n",
       " 'seen_products': [{'product_id': 24434003953,\n",
       "   'sku': 'SH335',\n",
       "   'product_name': 'Camera An Ninh Ngoài Trời IMOU Cruiser Z 5MP 12X',\n",
       "   'variance_description': '',\n",
       "   'brief_description': 'Phát Hiện Người Chống Bụi Chống Nước IP66 Màu Ban Đêm Tích Hợp Còi',\n",
       "   'price': 2790000},\n",
       "  {'product_id': 28006319841,\n",
       "   'sku': 'SH331',\n",
       "   'product_name': 'Camera An Ninh WiFi TP-Link TAPO C225',\n",
       "   'variance_description': '',\n",
       "   'brief_description': 'Camera AI 2K 4MP Theo Dõi Chuyển Động Cảm Biến Ánh Sáng Đàm Thoại 2 Chiều',\n",
       "   'price': 1499000}],\n",
       " 'product_chosen': None,\n",
       " 'orders': []}"
      ]
     },
     "execution_count": 17,
     "metadata": {},
     "output_type": "execute_result"
    }
   ],
   "source": [
    "current_state = state.copy()\n",
    "current_state.pop(\"messages\", None)\n",
    "current_state"
   ]
  },
  {
   "cell_type": "code",
   "execution_count": 16,
   "metadata": {},
   "outputs": [
    {
     "data": {
      "text/plain": [
       "{'messages': [HumanMessage(content='có camera an ninh ko', additional_kwargs={}, response_metadata={}, name='user_input_node', id='0c6e73b1-251a-44ca-b50c-1ca398e19640'),\n",
       "  AIMessage(content='Dạ, bên em hiện có 2 mẫu camera an ninh mà khách có thể tham khảo ạ:\\n\\n1. Camera An Ninh Ngoài Trời IMOU Cruiser Z 5MP 12X – Giá 2.790.000đ. Tính năng nổi bật: phát hiện người, chống bụi nước IP66, quan sát ban đêm có màu, tích hợp còi báo động.\\n2. Camera An Ninh WiFi TP-Link TAPO C225 – Giá 1.499.000đ. Tính năng nổi bật: Camera AI 2K 4MP, theo dõi chuyển động, cảm biến ánh sáng, đàm thoại 2 chiều.\\n\\nKhách muốn xem chi tiết sản phẩm nào hoặc cần tư vấn thêm để lựa chọn không ạ?', additional_kwargs={}, response_metadata={}, name='product_agent', id='e6de95af-a092-4fde-8eea-6ae0864740f7')],\n",
       " 'user_input': 'có camera an ninh ko',\n",
       " 'next_node': 'product_agent',\n",
       " 'customer_id': 17,\n",
       " 'name': 'Long',\n",
       " 'phone_number': '123',\n",
       " 'address': '123 hcm',\n",
       " 'chat_id': '1199687758',\n",
       " 'cart': {},\n",
       " 'seen_products': [{'product_id': 24434003953,\n",
       "   'sku': 'SH335',\n",
       "   'product_name': 'Camera An Ninh Ngoài Trời IMOU Cruiser Z 5MP 12X',\n",
       "   'variance_description': '',\n",
       "   'brief_description': 'Phát Hiện Người Chống Bụi Chống Nước IP66 Màu Ban Đêm Tích Hợp Còi',\n",
       "   'price': 2790000},\n",
       "  {'product_id': 28006319841,\n",
       "   'sku': 'SH331',\n",
       "   'product_name': 'Camera An Ninh WiFi TP-Link TAPO C225',\n",
       "   'variance_description': '',\n",
       "   'brief_description': 'Camera AI 2K 4MP Theo Dõi Chuyển Động Cảm Biến Ánh Sáng Đàm Thoại 2 Chiều',\n",
       "   'price': 1499000}],\n",
       " 'product_chosen': None,\n",
       " 'orders': []}"
      ]
     },
     "execution_count": 16,
     "metadata": {},
     "output_type": "execute_result"
    }
   ],
   "source": [
    "state"
   ]
  },
  {
   "cell_type": "code",
   "execution_count": 13,
   "metadata": {},
   "outputs": [
    {
     "name": "stdout",
     "output_type": "stream",
     "text": [
      "================================\u001b[1m Human Message \u001b[0m=================================\n",
      "Name: user_input_node\n",
      "\n",
      "có camera an ninh ko\n",
      "None\n",
      "==================================\u001b[1m Ai Message \u001b[0m==================================\n",
      "\n",
      "Dạ vâng ạ, em xin nhắc lại là em đã tìm được 2 sản phẩm camera an ninh hiện có tại cửa hàng mình đây ạ:\n",
      "\n",
      "1.  **Camera An Ninh Ngoài Trời IMOU Cruiser Z 5MP 12X**\n",
      "    *   Mô tả: Phát Hiện Người Chống Bụi Chống Nước IP66 Màu Ban Đêm Tích Hợp Còi\n",
      "    *   Giá: 2.790.000 VNĐ\n",
      "2.  **Camera An Ninh WiFi TP-Link TAPO C225**\n",
      "    *   Mô tả: Camera AI 2K 4MP Theo Dõi Chuyển Động Cảm Biến Ánh Sáng Đàm Thoại 2 Chiều\n",
      "    *   Giá: 1.499.000 VNĐ\n",
      "\n",
      "Khách có muốn em tư vấn thêm về tính năng của từng loại, hay khách đang tìm kiếm loại camera an ninh nào đặc biệt không ạ? Em sẵn lòng hỗ trợ ạ.\n",
      "None\n",
      "==================================\u001b[1m Ai Message \u001b[0m==================================\n",
      "Name: product_agent\n",
      "\n",
      "Dạ vâng ạ, em xin nhắc lại là em đã tìm được 2 sản phẩm camera an ninh hiện có tại cửa hàng mình đây ạ:\n",
      "\n",
      "1.  **Camera An Ninh Ngoài Trời IMOU Cruiser Z 5MP 12X**\n",
      "    *   Mô tả: Phát Hiện Người Chống Bụi Chống Nước IP66 Màu Ban Đêm Tích Hợp Còi\n",
      "    *   Giá: 2.790.000 VNĐ\n",
      "2.  **Camera An Ninh WiFi TP-Link TAPO C225**\n",
      "    *   Mô tả: Camera AI 2K 4MP Theo Dõi Chuyển Động Cảm Biến Ánh Sáng Đàm Thoại 2 Chiều\n",
      "    *   Giá: 1.499.000 VNĐ\n",
      "\n",
      "Khách có muốn em tư vấn thêm về tính năng của từng loại, hay khách đang tìm kiếm loại camera an ninh nào đặc biệt không ạ? Em sẵn lòng hỗ trợ ạ.\n",
      "None\n"
     ]
    }
   ],
   "source": [
    "config = {\n",
    "    \"configurable\": \n",
    "    {\n",
    "        \"thread_id\": \"1\"\n",
    "    }\n",
    "}\n",
    "\n",
    "state[\"user_input\"] = \"có camera an ninh ko\"\n",
    "state[\"chat_id\"] = \"1199687758\"\n",
    "\n",
    "for data in graph.stream(state, subgraphs=True, config=config):\n",
    "    for key, value in data[1].items():\n",
    "        if \"messages\" in value and value[\"messages\"]:\n",
    "            print(value[\"messages\"][-1].pretty_print())"
   ]
  },
  {
   "cell_type": "code",
   "execution_count": 5,
   "metadata": {},
   "outputs": [
    {
     "name": "stdout",
     "output_type": "stream",
     "text": [
      "================================\u001b[1m Human Message \u001b[0m=================================\n",
      "Name: user_input_node\n",
      "\n",
      "cho mình cái đầu tiên á\n",
      "None\n",
      "==================================\u001b[1m Ai Message \u001b[0m==================================\n",
      "Tool Calls:\n",
      "  add_cart (df4fbf52-ace1-4bd6-94e0-06734c167c86)\n",
      " Call ID: df4fbf52-ace1-4bd6-94e0-06734c167c86\n",
      "  Args:\n",
      "None\n",
      "=================================\u001b[1m Tool Message \u001b[0m=================================\n",
      "Name: add_cart\n",
      "\n",
      "Nói xác nhận với khách đã chọn sản phẩm <bạn hãy tự điền>\n",
      "Không được nói đã thêm sản phẩm vào giỏ hàng hay đơn hàng.\n",
      "Chỉ nói xác nhận khách đã chọn sản phẩm <bạn hãy tự điền>.Đây là các sản phẩm của khách, hãy trả về y nguyên để khách kiểm tra:\n",
      "STT: 1\n",
      "Tên sản phẩm: Camera An Ninh WiFi TP-Link TAPO C225\n",
      "Tên phân loại: \n",
      "Mã sản phẩm: 28006319841\n",
      "Mã phân loại: SH331\n",
      "Giá: 1499000 VNĐ\n",
      "Số lượng: 1 cái\n",
      "Tổng giá sản phẩm: 1499000 VNĐ\n",
      "\n",
      "Tổng giá trị của giỏ hàng: 1499000.\n",
      "\n",
      "Thông tin người nhận:\n",
      "- Tên người nhận: Không có thông tin.\n",
      "- Số điện thoại người nhận: Không có thông tin.\n",
      "- Địa chỉ người nhận: Không có thông tin.\n",
      "\n",
      "\n",
      "Nếu thiếu thông tin (tên, địa chỉ, số điện thoại) nào thì nói khách cung cấp thông tin đó.\n",
      "\n",
      "None\n",
      "==================================\u001b[1m Ai Message \u001b[0m==================================\n",
      "\n",
      "Dạ vâng, em đã ghi nhận Camera An Ninh WiFi TP-Link TAPO C225 cho khách ạ.\n",
      "\n",
      "Đây là thông tin sản phẩm khách đã chọn:\n",
      "STT: 1\n",
      "Tên sản phẩm: Camera An Ninh WiFi TP-Link TAPO C225\n",
      "Giá: 1.499.000 VNĐ\n",
      "Số lượng: 1 cái\n",
      "Tổng giá sản phẩm: 1.499.000 VNĐ\n",
      "\n",
      "Tổng giá trị hiện tại là: 1.499.000 VNĐ.\n",
      "\n",
      "Hiện tại em chưa có thông tin người nhận. Khách vui lòng cung cấp tên, số điện thoại và địa chỉ để em hoàn tất đơn hàng nhé.\n",
      "None\n",
      "==================================\u001b[1m Ai Message \u001b[0m==================================\n",
      "Name: cart_agent\n",
      "\n",
      "Dạ vâng, em đã ghi nhận Camera An Ninh WiFi TP-Link TAPO C225 cho khách ạ.\n",
      "\n",
      "Đây là thông tin sản phẩm khách đã chọn:\n",
      "STT: 1\n",
      "Tên sản phẩm: Camera An Ninh WiFi TP-Link TAPO C225\n",
      "Giá: 1.499.000 VNĐ\n",
      "Số lượng: 1 cái\n",
      "Tổng giá sản phẩm: 1.499.000 VNĐ\n",
      "\n",
      "Tổng giá trị hiện tại là: 1.499.000 VNĐ.\n",
      "\n",
      "Hiện tại em chưa có thông tin người nhận. Khách vui lòng cung cấp tên, số điện thoại và địa chỉ để em hoàn tất đơn hàng nhé.\n",
      "None\n"
     ]
    }
   ],
   "source": [
    "state[\"user_input\"] = \"cho mình cái đầu tiên á\"\n",
    "for data in graph.stream(state, subgraphs=True, config=config):\n",
    "    for key, value in data[1].items():\n",
    "        if \"messages\" in value and value[\"messages\"]:\n",
    "            print(value[\"messages\"][-1].pretty_print())"
   ]
  },
  {
   "cell_type": "code",
   "execution_count": 6,
   "metadata": {},
   "outputs": [
    {
     "name": "stdout",
     "output_type": "stream",
     "text": [
      "================================\u001b[1m Human Message \u001b[0m=================================\n",
      "Name: user_input_node\n",
      "\n",
      "tên Long, địa chỉ 123 hcm, sđt là 123\n",
      "None\n",
      "==================================\u001b[1m Ai Message \u001b[0m==================================\n",
      "\n",
      "Dạ em xác nhận lại tên của khách là Long, địa chỉ là 123 hcm và số điện thoại là 123 ạ. Em xin phép lên đơn hàng cho khách ngay đây ạ. Khách chờ em trong giây lát nhé.\n",
      "Tool Calls:\n",
      "  add_phone_name_address (c72db6fa-8c0c-4c5b-a94c-52470d0f78fe)\n",
      " Call ID: c72db6fa-8c0c-4c5b-a94c-52470d0f78fe\n",
      "  Args:\n",
      "    address: 123 hcm\n",
      "    phone_number: 123\n",
      "    name: Long\n",
      "None\n",
      "=================================\u001b[1m Tool Message \u001b[0m=================================\n",
      "Name: add_phone_name_address\n",
      "\n",
      "Đã có đầy đủ thông tin, lên đơn cho khách.\n",
      "Không được đề cập đến bất kỳ nhân viên nào, chỉ được thông báo khách chờ trong giây lát để lên đơn.\n",
      "None\n",
      "==================================\u001b[1m Ai Message \u001b[0m==================================\n",
      "\n",
      "Dạ em xác nhận lại số điện thoại 123, tên Long và địa chỉ 123 hcm của khách ạ. Khách chờ em một lát để em lên đơn hàng nhé.\n",
      "None\n",
      "==================================\u001b[1m Ai Message \u001b[0m==================================\n",
      "Name: customer_agent\n",
      "\n",
      "Dạ em xác nhận lại số điện thoại 123, tên Long và địa chỉ 123 hcm của khách ạ. Khách chờ em một lát để em lên đơn hàng nhé.\n",
      "None\n",
      "==================================\u001b[1m Ai Message \u001b[0m==================================\n",
      "Tool Calls:\n",
      "  create_order (28368d53-e0ca-413b-a4c3-0a11ad7c6579)\n",
      " Call ID: 28368d53-e0ca-413b-a4c3-0a11ad7c6579\n",
      "  Args:\n",
      "None\n",
      "=================================\u001b[1m Tool Message \u001b[0m=================================\n",
      "Name: create_order\n",
      "\n",
      "Tạo đơn hàng thành công.\n",
      "Đây là thông tin về việc gộp đơn hay không:\n",
      "Sản phẩm: Camera An Ninh WiFi TP-Link TAPO C225 với tên phân loại: Không có chưa có trong giỏ hàng. Thêm sản phẩm này vào trong giỏ hàng có sẵn..\n",
      "- Nếu thông tin trên đề cập sản phẩm được thêm mới thì bỏ qua, không thông báo cho khách.\n",
      "- Nếu thông tin trên đề cập sản phẩm đã có sẵn trong đơn hàng, gộp đơn thì thông báo cho khách.\n",
      "Trả về đơn hàng y nguyên cho khách (không được bớt thông tin sản phẩm):\n",
      "Mã đơn hàng: 47\n",
      "\n",
      "STT: 1.\n",
      "Tên sản phẩm: Camera An Ninh WiFi TP-Link TAPO C225\n",
      "Tên phân loại sản phẩm: \n",
      "Mã sản phẩm: 28006319841\n",
      "Mã SKU: SH331\n",
      "Giá của sản phẩm: 1499000\n",
      "Số lượng: 1\n",
      "Giá cuối cùng: 1499000\n",
      "\n",
      "Thông tin người nhận:\n",
      "Tên khách hàng: Long\n",
      "Số điện thoại khách hàng: 123\n",
      "Địa chỉ khách hàng: 123 hcm\n",
      "Phương thức thanh toán: COD\n",
      "Ngày tạo đơn: 24-07-2025.\n",
      "\n",
      "Giá trị đơn hàng:\n",
      "Tổng đơn hàng (chưa tính phí ship): 1499000 VNĐ\n",
      "Phí ship: 50000 VNĐ\n",
      "Tổng đơn hàng (đã bao gồm phí ship): 1549000 VNĐ\n",
      "\n",
      "None\n",
      "==================================\u001b[1m Ai Message \u001b[0m==================================\n",
      "\n",
      "Dạ khách Long ơi, em đã tạo đơn hàng thành công cho khách rồi ạ!\n",
      "\n",
      "Đây là thông tin chi tiết đơn hàng của mình:\n",
      "Mã đơn hàng: 47\n",
      "\n",
      "STT: 1.\n",
      "Tên sản phẩm: Camera An Ninh WiFi TP-Link TAPO C225\n",
      "Mã sản phẩm: 28006319841\n",
      "Giá của sản phẩm: 1.499.000 VNĐ\n",
      "Số lượng: 1\n",
      "Tổng giá sản phẩm: 1.499.000 VNĐ\n",
      "\n",
      "Thông tin người nhận:\n",
      "Tên khách hàng: Long\n",
      "Số điện thoại khách hàng: 123\n",
      "Địa chỉ khách hàng: 123 hcm\n",
      "Phương thức thanh toán: COD\n",
      "Ngày tạo đơn: 24-07-2025.\n",
      "\n",
      "Giá trị đơn hàng:\n",
      "Tổng đơn hàng (chưa tính phí ship): 1.499.000 VNĐ\n",
      "Phí ship: 50.000 VNĐ\n",
      "Tổng đơn hàng (đã bao gồm phí ship): 1.549.000 VNĐ\n",
      "\n",
      "Khách kiểm tra lại giúp em xem đã đúng hết thông tin chưa ạ? Nếu có gì cần thay đổi, khách cứ báo em nhé.\n",
      "None\n",
      "==================================\u001b[1m Ai Message \u001b[0m==================================\n",
      "Name: order_agent\n",
      "\n",
      "Dạ khách Long ơi, em đã tạo đơn hàng thành công cho khách rồi ạ!\n",
      "\n",
      "Đây là thông tin chi tiết đơn hàng của mình:\n",
      "Mã đơn hàng: 47\n",
      "\n",
      "STT: 1.\n",
      "Tên sản phẩm: Camera An Ninh WiFi TP-Link TAPO C225\n",
      "Mã sản phẩm: 28006319841\n",
      "Giá của sản phẩm: 1.499.000 VNĐ\n",
      "Số lượng: 1\n",
      "Tổng giá sản phẩm: 1.499.000 VNĐ\n",
      "\n",
      "Thông tin người nhận:\n",
      "Tên khách hàng: Long\n",
      "Số điện thoại khách hàng: 123\n",
      "Địa chỉ khách hàng: 123 hcm\n",
      "Phương thức thanh toán: COD\n",
      "Ngày tạo đơn: 24-07-2025.\n",
      "\n",
      "Giá trị đơn hàng:\n",
      "Tổng đơn hàng (chưa tính phí ship): 1.499.000 VNĐ\n",
      "Phí ship: 50.000 VNĐ\n",
      "Tổng đơn hàng (đã bao gồm phí ship): 1.549.000 VNĐ\n",
      "\n",
      "Khách kiểm tra lại giúp em xem đã đúng hết thông tin chưa ạ? Nếu có gì cần thay đổi, khách cứ báo em nhé.\n",
      "None\n"
     ]
    }
   ],
   "source": [
    "state[\"user_input\"] = \"tên Long, địa chỉ 123 hcm, sđt là 123\"\n",
    "for data in graph.stream(state, subgraphs=True, config=config):\n",
    "    for key, value in data[1].items():\n",
    "        if \"messages\" in value and value[\"messages\"]:\n",
    "            print(value[\"messages\"][-1].pretty_print())"
   ]
  },
  {
   "cell_type": "code",
   "execution_count": 7,
   "metadata": {},
   "outputs": [
    {
     "name": "stdout",
     "output_type": "stream",
     "text": [
      "================================\u001b[1m Human Message \u001b[0m=================================\n",
      "Name: user_input_node\n",
      "\n",
      "ê mà cái đơn đó lộn địa chỉ r, cho sửa lại là 456 hcm đi\n",
      "None\n",
      "==================================\u001b[1m Ai Message \u001b[0m==================================\n",
      "\n",
      "Dạ vâng khách Long, em đã ghi nhận yêu cầu thay đổi địa chỉ của khách. Khách chờ em một lát để em cập nhật lại địa chỉ thành 456 hcm cho đơn hàng số 47 nhé.\n",
      "Tool Calls:\n",
      "  update_receiver_info (b381dd4c-f578-4d52-bd6a-4d431b42f98e)\n",
      " Call ID: b381dd4c-f578-4d52-bd6a-4d431b42f98e\n",
      "  Args:\n",
      "    phone_number: 123\n",
      "    order_id: 47.0\n",
      "    address: 456 hcm\n",
      "    name: Long\n",
      "None\n",
      "=================================\u001b[1m Tool Message \u001b[0m=================================\n",
      "Name: update_receiver_info\n",
      "\n",
      "Đã cập nhật đơn hàng thành công cho khách.\n",
      "None\n",
      "==================================\u001b[1m Ai Message \u001b[0m==================================\n",
      "\n",
      "Dạ khách Long ơi, em đã cập nhật địa chỉ đơn hàng số 47 của mình thành 456 hcm rồi ạ.\n",
      "\n",
      "Thông tin đơn hàng của mình hiện tại là:\n",
      "Mã đơn hàng: 47\n",
      "\n",
      "STT: 1.\n",
      "Tên sản phẩm: Camera An Ninh WiFi TP-Link TAPO C225\n",
      "Mã sản phẩm: 28006319841\n",
      "Giá của sản phẩm: 1.499.000 VNĐ\n",
      "Số lượng: 1\n",
      "Tổng giá sản phẩm: 1.499.000 VNĐ\n",
      "\n",
      "Thông tin người nhận:\n",
      "Tên khách hàng: Long\n",
      "Số điện thoại khách hàng: 123\n",
      "Địa chỉ khách hàng: 456 hcm\n",
      "Phương thức thanh toán: COD\n",
      "Ngày tạo đơn: 24-07-2025.\n",
      "\n",
      "Giá trị đơn hàng:\n",
      "Tổng đơn hàng (chưa tính phí ship): 1.499.000 VNĐ\n",
      "Phí ship: 50.000 VNĐ\n",
      "Tổng đơn hàng (đã bao gồm phí ship): 1.549.000 VNĐ\n",
      "\n",
      "Khách kiểm tra lại lần nữa giúp em nhé. Nếu có bất kỳ thay đổi nào khác, khách cứ nói với em ạ.\n",
      "None\n",
      "==================================\u001b[1m Ai Message \u001b[0m==================================\n",
      "Name: order_agent\n",
      "\n",
      "Dạ khách Long ơi, em đã cập nhật địa chỉ đơn hàng số 47 của mình thành 456 hcm rồi ạ.\n",
      "\n",
      "Thông tin đơn hàng của mình hiện tại là:\n",
      "Mã đơn hàng: 47\n",
      "\n",
      "STT: 1.\n",
      "Tên sản phẩm: Camera An Ninh WiFi TP-Link TAPO C225\n",
      "Mã sản phẩm: 28006319841\n",
      "Giá của sản phẩm: 1.499.000 VNĐ\n",
      "Số lượng: 1\n",
      "Tổng giá sản phẩm: 1.499.000 VNĐ\n",
      "\n",
      "Thông tin người nhận:\n",
      "Tên khách hàng: Long\n",
      "Số điện thoại khách hàng: 123\n",
      "Địa chỉ khách hàng: 456 hcm\n",
      "Phương thức thanh toán: COD\n",
      "Ngày tạo đơn: 24-07-2025.\n",
      "\n",
      "Giá trị đơn hàng:\n",
      "Tổng đơn hàng (chưa tính phí ship): 1.499.000 VNĐ\n",
      "Phí ship: 50.000 VNĐ\n",
      "Tổng đơn hàng (đã bao gồm phí ship): 1.549.000 VNĐ\n",
      "\n",
      "Khách kiểm tra lại lần nữa giúp em nhé. Nếu có bất kỳ thay đổi nào khác, khách cứ nói với em ạ.\n",
      "None\n"
     ]
    }
   ],
   "source": [
    "state[\"user_input\"] = \"ê mà cái đơn đó lộn địa chỉ r, cho sửa lại là 456 hcm đi\"\n",
    "for data in graph.stream(state, subgraphs=True, config=config):\n",
    "    for key, value in data[1].items():\n",
    "        if \"messages\" in value and value[\"messages\"]:\n",
    "            print(value[\"messages\"][-1].pretty_print())"
   ]
  },
  {
   "cell_type": "code",
   "execution_count": 6,
   "metadata": {},
   "outputs": [
    {
     "data": {
      "text/plain": [
       "{'messages': [HumanMessage(content='bữa mình có đặt 1 cái đèn led, mình muốn huỷ được ko', additional_kwargs={}, response_metadata={}, name='user_input_node', id='3abd2aec-76e9-4266-b5e8-94d6790f28df'),\n",
       "  AIMessage(content='Để em kiểm tra thông tin đơn hàng cho mình ạ.', additional_kwargs={}, response_metadata={}, name='order_agent', id='17b47698-9401-4933-b435-53e22ef93fa3'),\n",
       "  HumanMessage(content='bữa mình có đặt 1 cái đèn led, mình muốn huỷ được ko', additional_kwargs={}, response_metadata={}, name='user_input_node', id='978c4050-686e-4d15-aa0f-7b6a3684a926'),\n",
       "  AIMessage(content='Dạ, em đã kiểm tra các đơn hàng gần nhất của mình. Mình có 2 đơn hàng:\\n\\n*   Đơn hàng có mã **37** gồm:\\n    *   Bóng Đèn Led Thông Minh TP-Link Tapo L510E: 1 cái\\n    *   Bộ Đèn Led Dây Thông Minh Wi-Fi TP-Link Tapo L900-5: 2 cái\\n    *   Camera An Ninh Ngoài Trời IMOU Cruiser Z 5MP 12X: 1 cái\\n    *   Camera An Ninh WiFi TP-Link TAPO C225: 4 cái\\n    *   Tổng tiền: 10.683.000 VNĐ\\n    *   Người nhận: Long, số điện thoại 123, địa chỉ 456 trường sa, tp hcm\\n\\n*   Đơn hàng có mã **39** gồm:\\n    *   Camera An Ninh WiFi TP-Link TAPO C225: 2 cái\\n    *   Tổng tiền: 2.998.000 VNĐ\\n    *   Người nhận: Long, số điện thoại 123, địa chỉ số 10 phường sài gòn, hcm\\n\\nMình muốn hủy đơn hàng nào ạ?', additional_kwargs={}, response_metadata={}, name='order_agent', id='eb3f6fee-efda-4c6b-a407-ef5ffb2d4dd1')],\n",
       " 'user_input': 'bữa mình có đặt 1 cái đèn led, mình muốn huỷ được ko',\n",
       " 'next_node': '__end__',\n",
       " 'customer_id': 4,\n",
       " 'name': 'Long',\n",
       " 'phone_number': '123',\n",
       " 'address': '456 quận 9, tp hcm',\n",
       " 'chat_id': '1199687758',\n",
       " 'cart': {},\n",
       " 'seen_products': [],\n",
       " 'product_chosen': None,\n",
       " 'orders': [{'order_id': 37,\n",
       "   'shipping_fee': 50000,\n",
       "   'grand_total': 10733000,\n",
       "   'customer_id': 4,\n",
       "   'receiver_name': 'Long',\n",
       "   'receiver_address': '456 trường sa, tp hcm',\n",
       "   'order_total': 10683000,\n",
       "   'status': 'awaiting_payment',\n",
       "   'created_at': '02-07-2025',\n",
       "   'updated_at': '22-07-2025',\n",
       "   'payment': 'COD',\n",
       "   'receiver_phone_number': '123',\n",
       "   'items': [{'product_id': 26956171339,\n",
       "     'sku': 'SH326',\n",
       "     'product_name': 'Bóng Đèn Led Thông Minh TP-Link Tapo L510E',\n",
       "     'variance_name': '',\n",
       "     'quantity': 1,\n",
       "     'price': 299000,\n",
       "     'subtotal': 299000},\n",
       "    {'product_id': 29606167458,\n",
       "     'sku': 'SH324',\n",
       "     'product_name': 'Bộ Đèn Led Dây Thông Minh Wi-Fi TP-Link Tapo L900-5',\n",
       "     'variance_name': '',\n",
       "     'quantity': 2,\n",
       "     'price': 799000,\n",
       "     'subtotal': 1598000},\n",
       "    {'product_id': 24434003953,\n",
       "     'sku': 'SH335',\n",
       "     'product_name': 'Camera An Ninh Ngoài Trời IMOU Cruiser Z 5MP 12X',\n",
       "     'variance_name': '',\n",
       "     'quantity': 1,\n",
       "     'price': 2790000,\n",
       "     'subtotal': 2790000},\n",
       "    {'product_id': 28006319841,\n",
       "     'sku': 'SH331',\n",
       "     'product_name': 'Camera An Ninh WiFi TP-Link TAPO C225',\n",
       "     'variance_name': '',\n",
       "     'quantity': 4,\n",
       "     'price': 1499000,\n",
       "     'subtotal': 5996000}]},\n",
       "  {'order_id': 39,\n",
       "   'shipping_fee': 50000,\n",
       "   'grand_total': 3048000,\n",
       "   'customer_id': 4,\n",
       "   'receiver_name': 'Long',\n",
       "   'receiver_address': 'số 10 phường sài gòn, hcm',\n",
       "   'order_total': 2998000,\n",
       "   'status': 'awaiting_payment',\n",
       "   'created_at': '23-07-2025',\n",
       "   'updated_at': '24-07-2025',\n",
       "   'payment': 'COD',\n",
       "   'receiver_phone_number': '123',\n",
       "   'items': [{'product_id': 28006319841,\n",
       "     'sku': 'SH331',\n",
       "     'product_name': 'Camera An Ninh WiFi TP-Link TAPO C225',\n",
       "     'variance_name': '',\n",
       "     'quantity': 2,\n",
       "     'price': 1499000,\n",
       "     'subtotal': 2998000}]}]}"
      ]
     },
     "execution_count": 6,
     "metadata": {},
     "output_type": "execute_result"
    }
   ],
   "source": [
    "graph.get_state(config).values"
   ]
  },
  {
   "cell_type": "markdown",
   "metadata": {},
   "source": [
    "## Test"
   ]
  },
  {
   "cell_type": "code",
   "execution_count": 1,
   "metadata": {},
   "outputs": [],
   "source": [
    "from app.core.graph import build_graph\n",
    "from app.core.state import init_state\n",
    "from langgraph.graph.message import add_messages\n",
    "from langchain_core.messages import HumanMessage\n",
    "from langgraph.types import Command\n",
    "\n",
    "graph = build_graph()"
   ]
  },
  {
   "cell_type": "code",
   "execution_count": 12,
   "metadata": {},
   "outputs": [
    {
     "data": {
      "text/plain": [
       "'24-07-2025'"
      ]
     },
     "execution_count": 12,
     "metadata": {},
     "output_type": "execute_result"
    }
   ],
   "source": [
    "from datetime import date\n",
    "\n",
    "date.today().strftime('%d-%m-%Y')"
   ]
  },
  {
   "cell_type": "code",
   "execution_count": null,
   "metadata": {},
   "outputs": [],
   "source": [
    "state = init_state()\n",
    "\n",
    "config = {\n",
    "    \"configurable\": \n",
    "    {\n",
    "        \"thread_id\": \"1\"\n",
    "    }\n",
    "}\n",
    "\n",
    "state[\"user_input\"] = \"có đèn led thông minh không\"\n",
    "\n",
    "for event in graph.stream(state, config):\n",
    "    for node, value in event.items():\n",
    "        if \"messages\" in value:\n",
    "            print(value[\"messages\"][-1].pretty_print())\n",
    "        else:\n",
    "            print(value)"
   ]
  },
  {
   "cell_type": "code",
   "execution_count": null,
   "metadata": {},
   "outputs": [],
   "source": [
    "state[\"user_input\"] = \"sđt là 123\"\n",
    "\n",
    "for event in graph.stream(state, config):\n",
    "    for node, value in event.items():\n",
    "        if \"messages\" in value:\n",
    "            print(value[\"messages\"][-1].pretty_print())\n",
    "        else:\n",
    "            print(value)"
   ]
  },
  {
   "cell_type": "code",
   "execution_count": null,
   "metadata": {},
   "outputs": [],
   "source": [
    "state[\"user_input\"] = \"uk thêm luôn đi\"\n",
    "\n",
    "for event in graph.stream(state, config):\n",
    "    for node, value in event.items():\n",
    "        if \"messages\" in value:\n",
    "            print(value[\"messages\"][-1].pretty_print())\n",
    "        else:\n",
    "            print(value)"
   ]
  },
  {
   "cell_type": "code",
   "execution_count": null,
   "metadata": {},
   "outputs": [],
   "source": [
    "state[\"user_input\"] = \"lên đơn đi\"\n",
    "\n",
    "for event in graph.stream(state, config):\n",
    "    for node, value in event.items():\n",
    "        if \"messages\" in value:\n",
    "            print(value[\"messages\"][-1].pretty_print())\n",
    "        else:\n",
    "            print(value)"
   ]
  },
  {
   "cell_type": "markdown",
   "metadata": {},
   "source": [
    "----"
   ]
  },
  {
   "cell_type": "code",
   "execution_count": 2,
   "metadata": {},
   "outputs": [],
   "source": [
    "from app.core.order_agent.order_prompts import find_order_prompt\n",
    "\n",
    "\n",
    "prompt = find_order_prompt()"
   ]
  },
  {
   "cell_type": "code",
   "execution_count": 3,
   "metadata": {},
   "outputs": [],
   "source": [
    "from app.core.model import init_model\n",
    "from datetime import date\n",
    "\n",
    "user_input = \"mình muốn chỉnh sửa đơn hàng\"\n",
    "\n",
    "llm = init_model()\n",
    "msg = [\n",
    "    {\"role\": \"system\", \"content\": prompt},\n",
    "    {\"role\": \"human\", \"content\": (\n",
    "        f\"Đây là yêu cầu của khách: {user_input}\\n\"\n",
    "        f\"Mã khách hàng (customer_id): 3\"\n",
    "    )},\n",
    "]\n",
    "\n",
    "result = llm.invoke(msg)"
   ]
  },
  {
   "cell_type": "code",
   "execution_count": null,
   "metadata": {},
   "outputs": [],
   "source": [
    "print(result.content.replace(\"```sql\", \"\").replace(\"```\", \"\"))"
   ]
  },
  {
   "cell_type": "code",
   "execution_count": 1,
   "metadata": {},
   "outputs": [],
   "source": [
    "from app.core.order_agent.order_prompts import update_order_prompt\n",
    "\n",
    "update_prompt = update_order_prompt()"
   ]
  },
  {
   "cell_type": "code",
   "execution_count": 2,
   "metadata": {},
   "outputs": [],
   "source": [
    "order_items = {'order_id: 30': [{'product_id': 26956171339,\n",
    "    'sku': 'SH326',\n",
    "    'product_name': 'Bóng Đèn Led Thông Minh TP-Link Tapo L510E',\n",
    "    'variance_name': '',\n",
    "    'quantity': 2,\n",
    "    'price': 299000,\n",
    "    'subtotal': 598000},\n",
    "   {'product_id': 28006319841,\n",
    "    'sku': 'SH331',\n",
    "    'product_name': 'Camera An Ninh WiFi TP-Link TAPO C225',\n",
    "    'variance_name': '',\n",
    "    'quantity': 2,\n",
    "    'price': 1499000,\n",
    "    'subtotal': 2998000}]}"
   ]
  },
  {
   "cell_type": "code",
   "execution_count": 3,
   "metadata": {},
   "outputs": [],
   "source": [
    "from app.core.model import init_model\n",
    "from datetime import date\n",
    "\n",
    "user_input = \"hôm qua mình có đặt 2 cái đèn led, mình muốn mua thêm 1 cái nữa được không\"\n",
    "chat_histories = [\n",
    "    {\n",
    "        \"type\": \"human\",\n",
    "        \"content\": \"hôm qua mình có đặt 2 cái đèn led, mình muốn mua thêm 1 cái nữa được không\"\n",
    "    },\n",
    "    {\n",
    "        \"type\": \"ai\",\n",
    "        \"content\": \"Đây có phải là đơn hàng bạn muốn chỉnh sửa khôn: đơn 30 ....\"\n",
    "    },\n",
    "    {\n",
    "        \"type\": \"human\",\n",
    "        \"content\": \"đúng r\"\n",
    "    }\n",
    "]\n",
    "\n",
    "llm = init_model()\n",
    "msg = [\n",
    "    {\"role\": \"system\", \"content\": update_prompt},\n",
    "    {\"role\": \"human\", \"content\": (\n",
    "        f\"Đây là yêu cầu của khách: {user_input}\\n\"\n",
    "        f\"Đây là dictionary đơn hàng liên quan đến yêu cầu của khách: {order_items}\"\n",
    "    )},\n",
    "]\n",
    "\n",
    "result = llm.invoke(msg)"
   ]
  },
  {
   "cell_type": "code",
   "execution_count": null,
   "metadata": {},
   "outputs": [],
   "source": [
    "print(result.content)"
   ]
  },
  {
   "cell_type": "code",
   "execution_count": 14,
   "metadata": {},
   "outputs": [],
   "source": [
    "cart = {'29606167458 - SH324': {'Mã sản phẩm': 29606167458,\n",
    "   'Mã phân loại': 'SH324',\n",
    "   'Tên sản phẩm': 'Bộ Đèn Led Dây Thông Minh Wi-Fi TP-Link Tapo L900-5',\n",
    "   'Tên phân loại': '',\n",
    "   'Giá sản phẩm': 799000,\n",
    "   'Số lượng': 1,\n",
    "   'Giá cuối cùng': 799000},\n",
    "  '29253777179 - SH296': {'Mã sản phẩm': 29253777179,\n",
    "   'Mã phân loại': 'SH296',\n",
    "   'Tên sản phẩm': 'Bộ Điều Khiển Cổng Gate Hunonic WiFi/Bluetooth',\n",
    "   'Tên phân loại': '',\n",
    "   'Giá sản phẩm': 1850000,\n",
    "   'Số lượng': 1,\n",
    "   'Giá cuối cùng': 1850000}}"
   ]
  },
  {
   "cell_type": "code",
   "execution_count": 15,
   "metadata": {},
   "outputs": [
    {
     "name": "stdout",
     "output_type": "stream",
     "text": [
      "Bộ Đèn Led Dây Thông Minh Wi-Fi TP-Link Tapo L900-5 - Màu đen\n",
      "Bộ Điều Khiển Cổng Gate Hunonic WiFi/Bluetooth\n"
     ]
    }
   ],
   "source": [
    "for value in cart.values():\n",
    "    name = value[\"Tên sản phẩm\"]\n",
    "    if value[\"Tên phân loại\"] != '':\n",
    "        name += f\" - {value[\"Tên phân loại\"]}\"\n",
    "\n",
    "    print(name)"
   ]
  },
  {
   "cell_type": "code",
   "execution_count": 2,
   "metadata": {},
   "outputs": [],
   "source": [
    "from langchain_openai import OpenAIEmbeddings\n",
    "from dotenv import load_dotenv\n",
    "import os\n",
    "\n",
    "load_dotenv(override=True)\n",
    "OPENAI_KEY = os.getenv(\"OPENAI_KEY\")\n",
    "\n",
    "# Khởi tạo embedding model\n",
    "embedding_model = OpenAIEmbeddings(\n",
    "    model=\"text-embedding-3-small\",  # hoặc text-embedding-ada-002\n",
    "    openai_api_key=OPENAI_KEY\n",
    ")\n",
    "\n",
    "# Tạo embedding cho một câu hỏi\n",
    "query = \"Cách hẹn giờ ổ cắm Tuya\"\n",
    "\n",
    "embedding_vector = embedding_model.embed_query(query)\n"
   ]
  },
  {
   "cell_type": "code",
   "execution_count": 1,
   "metadata": {},
   "outputs": [],
   "source": [
    "from app.core.graph_function import GraphFunction\n",
    "\n",
    "graph_function = GraphFunction()\n",
    "\n",
    "check_unshipped_order = graph_function.check_unshipped_order(3)\n",
    "if check_unshipped_order:\n",
    "    items = graph_function.get_order_items_detail(check_unshipped_order.order_id)\n",
    "    unshipped_order = {\n",
    "        k: v for k, v in check_unshipped_order.__dict__.items()\n",
    "        if not k.startswith(\"_\")\n",
    "    }\n",
    "    unshipped_order[\"items\"] = items"
   ]
  },
  {
   "cell_type": "code",
   "execution_count": 2,
   "metadata": {},
   "outputs": [
    {
     "data": {
      "text/plain": [
       "{'order_id': 37,\n",
       " 'order_total': 10683000,\n",
       " 'shipping_fee': 50000,\n",
       " 'grand_total': 10733000,\n",
       " 'customer_id': 3,\n",
       " 'receiver_name': 'Long',\n",
       " 'receiver_address': '456 trường sa, tp hcm',\n",
       " 'status': 'awaiting_payment',\n",
       " 'created_at': datetime.datetime(2025, 7, 2, 6, 29, 4, 23791, tzinfo=datetime.timezone.utc),\n",
       " 'updated_at': datetime.datetime(2025, 7, 22, 16, 49, 3, 363657),\n",
       " 'payment': 'COD',\n",
       " 'receiver_phone_number': '123',\n",
       " 'items': [{'product_id': 26956171339,\n",
       "   'sku': 'SH326',\n",
       "   'product_name': 'Bóng Đèn Led Thông Minh TP-Link Tapo L510E',\n",
       "   'variance_name': '',\n",
       "   'quantity': 1,\n",
       "   'price': 299000,\n",
       "   'subtotal': 299000},\n",
       "  {'product_id': 29606167458,\n",
       "   'sku': 'SH324',\n",
       "   'product_name': 'Bộ Đèn Led Dây Thông Minh Wi-Fi TP-Link Tapo L900-5',\n",
       "   'variance_name': '',\n",
       "   'quantity': 2,\n",
       "   'price': 799000,\n",
       "   'subtotal': 1598000},\n",
       "  {'product_id': 24434003953,\n",
       "   'sku': 'SH335',\n",
       "   'product_name': 'Camera An Ninh Ngoài Trời IMOU Cruiser Z 5MP 12X',\n",
       "   'variance_name': '',\n",
       "   'quantity': 1,\n",
       "   'price': 2790000,\n",
       "   'subtotal': 2790000},\n",
       "  {'product_id': 28006319841,\n",
       "   'sku': 'SH331',\n",
       "   'product_name': 'Camera An Ninh WiFi TP-Link TAPO C225',\n",
       "   'variance_name': '',\n",
       "   'quantity': 4,\n",
       "   'price': 1499000,\n",
       "   'subtotal': 5996000}]}"
      ]
     },
     "execution_count": 2,
     "metadata": {},
     "output_type": "execute_result"
    }
   ],
   "source": [
    "unshipped_order"
   ]
  }
 ],
 "metadata": {
  "kernelspec": {
   "display_name": ".sellbotenv",
   "language": "python",
   "name": "python3"
  },
  "language_info": {
   "codemirror_mode": {
    "name": "ipython",
    "version": 3
   },
   "file_extension": ".py",
   "mimetype": "text/x-python",
   "name": "python",
   "nbconvert_exporter": "python",
   "pygments_lexer": "ipython3",
   "version": "3.12.5"
  }
 },
 "nbformat": 4,
 "nbformat_minor": 2
}
